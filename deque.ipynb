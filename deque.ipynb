{
 "cells": [
  {
   "cell_type": "markdown",
   "metadata": {},
   "source": [
    "# `deque` 学习簿\n",
    "\n",
    "`deque`（double-ended queue，双端队列）是 Python 标准库 **collections** 模块提供的一个高性能容器。  \n",
    "它支持在序列两端以 **O(1) 时间复杂度** 进行快速插入和删除，适用于队列、栈、缓存等多种场景。\n",
    "\n",
    "相比 `list`，`deque` 在两端操作时效率更高，非常适合实现 **FIFO 队列** 或 **LIFO 栈**。\n",
    "\n",
    "\n"
   ]
  },
  {
   "metadata": {},
   "cell_type": "markdown",
   "source": [
    "\n",
    "## 准备工作\n",
    "\n",
    "首先，我们需要从 `collections` 模块中导入 `deque`：\n"
   ]
  },
  {
   "cell_type": "code",
   "metadata": {},
   "source": [
    "from collections import deque\n",
    "from time import perf_counter"
   ],
   "outputs": [],
   "execution_count": null
  },
  {
   "cell_type": "markdown",
   "metadata": {},
   "source": [
    "## 创建与初始化\n",
    "\n",
    "我们可以通过任何 **iterable** 来创建一个 `deque`："
   ]
  },
  {
   "cell_type": "code",
   "metadata": {},
   "source": [
    "deque()"
   ],
   "outputs": [],
   "execution_count": null
  },
  {
   "cell_type": "code",
   "metadata": {},
   "source": [
    "deque((1, 2, 3, 4))"
   ],
   "outputs": [],
   "execution_count": null
  },
  {
   "cell_type": "code",
   "metadata": {},
   "source": [
    "deque([1, 2, 3, 4])"
   ],
   "outputs": [],
   "execution_count": null
  },
  {
   "cell_type": "code",
   "metadata": {},
   "source": [
    "deque(range(1, 5))"
   ],
   "outputs": [],
   "execution_count": null
  },
  {
   "cell_type": "code",
   "metadata": {},
   "source": [
    "deque(\"abcd\")"
   ],
   "outputs": [],
   "execution_count": null
  },
  {
   "cell_type": "code",
   "metadata": {},
   "source": [
    "numbers = {\"one\": 1, \"two\": 2, \"three\": 3, \"four\": 4}\n",
    "deque(numbers.keys())"
   ],
   "outputs": [],
   "execution_count": null
  },
  {
   "cell_type": "code",
   "metadata": {},
   "source": [
    "deque(numbers.values())"
   ],
   "outputs": [],
   "execution_count": null
  },
  {
   "cell_type": "code",
   "metadata": {},
   "source": [
    "deque(numbers.items())"
   ],
   "outputs": [],
   "execution_count": null
  },
  {
   "metadata": {},
   "cell_type": "markdown",
   "source": "## 基本操作"
  },
  {
   "metadata": {},
   "cell_type": "markdown",
   "source": [
    "| 方法                 | 说明                      |\n",
    "| ------------------ | ----------------------- |\n",
    "| `append(x)`        | 在右端添加元素                 |\n",
    "| `appendleft(x)`    | 在左端添加元素                 |\n",
    "| `pop()`            | 移除并返回最右端元素              |\n",
    "| `popleft()`        | 移除并返回最左端元素              |\n",
    "| `extend(iter)`     | 在右端扩展多个元素               |\n",
    "| `extendleft(iter)` | 在左端扩展多个元素（注意顺序会反转）      |\n",
    "| `rotate(n)`        | 将队列旋转 n 步（正数向右，负数向左）    |\n",
    "| `clear()`          | 清空队列                    |\n",
    "| `maxlen`           | 创建时可设定最大长度，超出会自动删除另一端元素 |\n"
   ]
  },
  {
   "metadata": {},
   "cell_type": "markdown",
   "source": "deque 提供在两端进行插入（append）和弹出（pop）操作的极高性能。"
  },
  {
   "cell_type": "markdown",
   "metadata": {},
   "source": [
    "### 删除元素（左侧）\n",
    "使用 `popleft()` 方法可以移除并返回 **左端** 的元素。"
   ]
  },
  {
   "cell_type": "code",
   "metadata": {},
   "source": [
    "numbers = deque([1, 2, 3, 4])\n",
    "numbers.popleft()"
   ],
   "outputs": [],
   "execution_count": null
  },
  {
   "metadata": {},
   "cell_type": "markdown",
   "source": "如果再执行一次popleft()，还会再一次移除并返回处理后的numbers左端的元素"
  },
  {
   "cell_type": "code",
   "metadata": {},
   "source": [
    "numbers.popleft()"
   ],
   "outputs": [],
   "execution_count": null
  },
  {
   "cell_type": "code",
   "metadata": {},
   "source": [
    "numbers"
   ],
   "outputs": [],
   "execution_count": null
  },
  {
   "cell_type": "markdown",
   "metadata": {},
   "source": [
    "### 添加元素（左侧）\n",
    "使用 `appendleft()` 方法可以在队列的 **左端** 添加元素。"
   ]
  },
  {
   "cell_type": "code",
   "metadata": {},
   "source": [
    "numbers.appendleft(2)\n",
    "numbers"
   ],
   "outputs": [],
   "execution_count": null
  },
  {
   "cell_type": "markdown",
   "metadata": {},
   "source": "同样，如果再执行一次appendleft()，就会再一次添加并返回处理后的numbers左端的元素"
  },
  {
   "cell_type": "code",
   "metadata": {},
   "source": [
    "numbers.appendleft(1)\n",
    "numbers"
   ],
   "outputs": [],
   "execution_count": null
  },
  {
   "cell_type": "markdown",
   "metadata": {},
   "source": [
    "### 删除元素（右侧）\n",
    "使用 `pop()` 方法可以移除并返回 **右端** 的元素。"
   ]
  },
  {
   "cell_type": "code",
   "metadata": {},
   "source": [
    "numbers.pop()"
   ],
   "outputs": [],
   "execution_count": null
  },
  {
   "cell_type": "code",
   "metadata": {},
   "source": [
    "numbers"
   ],
   "outputs": [],
   "execution_count": null
  },
  {
   "cell_type": "markdown",
   "metadata": {},
   "source": [
    "## 性能对比\n",
    "\n",
    "与 Python 内置的 `list` 相比，`deque` 在以下方面更优：\n",
    "* `list.append()` 和 `list.pop()` 在尾部操作快，但在头部操作（`insert(0, x)`、`pop(0)`）很慢，因为涉及大量数据移动。\n",
    "* `deque` 的两端操作时间复杂度都接近 **O(1)**。\n",
    "\n",
    "我们可以使用 `time.perf_counter()` 来比较 `deque` 与 `list` 在两端操作时的性能差异，可以来看看下面的测试案例。"
   ]
  },
  {
   "metadata": {},
   "cell_type": "code",
   "source": [
    "TIMES = 10_000\n",
    "a_list = []\n",
    "a_deque = deque()\n",
    "\n",
    "def average_time(func, times):\n",
    "    total = 0.0\n",
    "    for i in range(times):\n",
    "        start = perf_counter()\n",
    "        func(i)\n",
    "        total += (perf_counter() - start) * 1e9\n",
    "    return total / times\n",
    "\n",
    "list_time = average_time(lambda i: a_list.insert(0, i), TIMES)\n",
    "deque_time = average_time(lambda i: a_deque.appendleft(i), TIMES)\n",
    "gain = list_time / deque_time\n",
    "\n",
    "print(f\"list.insert()      {list_time:.6} ns\")\n",
    "print(f\"deque.appendleft() {deque_time:.6} ns  ({gain:.6}x faster)\")"
   ],
   "outputs": [],
   "execution_count": null
  },
  {
   "metadata": {},
   "cell_type": "markdown",
   "source": "deque 完全支持 iterable 接口，也支持大部分 list 的方法，当然，切片（slice）不行。"
  },
  {
   "metadata": {},
   "cell_type": "code",
   "source": [
    "letters = deque(\"abde\")\n",
    "\n",
    "letters.insert(2, \"c\")\n",
    "letters"
   ],
   "outputs": [],
   "execution_count": null
  },
  {
   "metadata": {},
   "cell_type": "code",
   "source": [
    "letters.remove(\"d\")\n",
    "letters"
   ],
   "outputs": [],
   "execution_count": null
  },
  {
   "metadata": {},
   "cell_type": "code",
   "source": "letters[1]",
   "outputs": [],
   "execution_count": null
  },
  {
   "metadata": {},
   "cell_type": "code",
   "source": [
    "del letters[2]\n",
    "letters"
   ],
   "outputs": [],
   "execution_count": null
  },
  {
   "metadata": {},
   "cell_type": "markdown",
   "source": "支持归支持，毕竟不是自己擅长的，所以性能就稍差些，但也没差太多，我们可以通过下面的测试来确认这一点。"
  },
  {
   "cell_type": "code",
   "metadata": {},
   "source": [
    "TIMES = 10_000\n",
    "a_list = [1] * TIMES\n",
    "a_deque = deque(a_list)\n",
    "\n",
    "def average_time(func, times):\n",
    "    total = 0.0\n",
    "    for _ in range(times):\n",
    "        start = perf_counter()\n",
    "        func()\n",
    "        total += (perf_counter() - start) * 1e6\n",
    "    return total / times\n",
    "\n",
    "def time_it(sequence):\n",
    "    middle = len(sequence) // 2\n",
    "    sequence.insert(middle, \"middle\")\n",
    "    sequence[middle]\n",
    "    sequence.remove(\"middle\")\n",
    "    del sequence[middle]\n",
    "\n",
    "list_time = average_time(lambda: time_it(a_list), TIMES)\n",
    "deque_time = average_time(lambda: time_it(a_deque), TIMES)\n",
    "gain = deque_time / list_time\n",
    "\n",
    "print(f\"list  {list_time:.6} μs ({gain:.6}x faster)\")\n",
    "print(f\"deque {deque_time:.6} μs\")"
   ],
   "outputs": [],
   "execution_count": null
  },
  {
   "cell_type": "markdown",
   "metadata": {},
   "source": [
    "对 deque 的一般操作，我们可以总结如下的性能对比：\n",
    "| **操作** | **deque** | **list** |\n",
    "| --- | --- | --- |\n",
    "| 通过下标访问元素 | $O(n)$ | $O(1)$ |\n",
    "| 左侧增加或弹出元素 | $O(1)$ | $O(n)$ |\n",
    "| 右侧增加或弹出元素 | $O(1)$ | $O(1)+重分配内存时间$ |\n",
    "| 中间插入或删除元素 | $O(n)$ | $O(n)$ |"
   ]
  },
  {
   "cell_type": "markdown",
   "metadata": {},
   "source": [
    "下面我们来看看怎么把 deque 当队列（queue）用。我们来模拟一个顾客排队等待接待的场景。"
   ]
  },
  {
   "cell_type": "code",
   "metadata": {},
   "source": [
    "customers = deque()\n",
    "\n",
    "customers.append(\"Jane\")\n",
    "customers.append(\"John\")\n",
    "customers.append(\"Linda\")\n",
    "customers"
   ],
   "outputs": [],
   "execution_count": null
  },
  {
   "cell_type": "code",
   "metadata": {},
   "source": [
    "customers.popleft()"
   ],
   "outputs": [],
   "execution_count": null
  },
  {
   "cell_type": "code",
   "metadata": {},
   "source": [
    "customers.popleft()"
   ],
   "outputs": [],
   "execution_count": null
  },
  {
   "metadata": {},
   "cell_type": "code",
   "source": "customers.popleft()",
   "outputs": [],
   "execution_count": null
  },
  {
   "cell_type": "code",
   "metadata": {},
   "source": [
    "# 如果在一个空的 deque 上调用 popleft() 方法，会抛出 IndexError 异常\n",
    "# customers.popleft()"
   ],
   "outputs": [],
   "execution_count": null
  },
  {
   "cell_type": "markdown",
   "metadata": {},
   "source": [
    "如果需要我们可以简单地把 deque 包装一个标准的队列（queue）类。"
   ]
  },
  {
   "cell_type": "code",
   "metadata": {},
   "source": [
    "class Queue:\n",
    "    def __init__(self):\n",
    "        self._items = deque()\n",
    "\n",
    "    def enqueue(self, item):\n",
    "        self._items.append(item)\n",
    "\n",
    "    def dequeue(self):\n",
    "        try:\n",
    "            return self._items.popleft()\n",
    "        except IndexError:\n",
    "            raise IndexError(\"dequeue from an empty queue\") from None\n",
    "\n",
    "    def __len__(self):\n",
    "        return len(self._items)\n",
    "\n",
    "    def __contains__(self, item):\n",
    "        return item in self._items\n",
    "\n",
    "    def __iter__(self):\n",
    "        yield from self._items\n",
    "\n",
    "    def __reversed__(self):\n",
    "        yield from reversed(self._items)\n",
    "\n",
    "    def __repr__(self):\n",
    "        return f\"Queue({list(self._items)})\""
   ],
   "outputs": [],
   "execution_count": null
  },
  {
   "cell_type": "markdown",
   "metadata": {},
   "source": [
    "最后简介下 deque 的其他方法和用法。先来看 maxlen 属性，它可以限制 deque 的长度，当 deque 的长度超过 maxlen 时，会自动弹出左侧元素。"
   ]
  },
  {
   "cell_type": "markdown",
   "metadata": {},
   "source": [
    "### 最大长度限制\n",
    "创建 `deque` 时可以指定 `maxlen`，超过长度时会自动丢弃另一端的元素。"
   ]
  },
  {
   "cell_type": "code",
   "metadata": {},
   "source": [
    "four_numbers = deque([0, 1, 2, 3, 4], maxlen=4)\n",
    "four_numbers"
   ],
   "outputs": [],
   "execution_count": null
  },
  {
   "cell_type": "code",
   "metadata": {},
   "source": [
    "four_numbers.append(5)\n",
    "four_numbers"
   ],
   "outputs": [],
   "execution_count": null
  },
  {
   "cell_type": "code",
   "metadata": {},
   "source": [
    "four_numbers.append(6)  # Automatically remove 2\n",
    "four_numbers"
   ],
   "outputs": [],
   "execution_count": null
  },
  {
   "cell_type": "code",
   "metadata": {},
   "source": [
    "four_numbers.appendleft(2) # Automatically remove 6\n",
    "four_numbers"
   ],
   "outputs": [],
   "execution_count": null
  },
  {
   "cell_type": "code",
   "metadata": {},
   "source": [
    "four_numbers.appendleft(1)  # Automatically remove 5\n",
    "four_numbers"
   ],
   "outputs": [],
   "execution_count": null
  },
  {
   "cell_type": "code",
   "metadata": {},
   "source": [
    "four_numbers.maxlen"
   ],
   "outputs": [],
   "execution_count": null
  },
  {
   "cell_type": "markdown",
   "metadata": {},
   "source": [
    "另一个有用的方法是 rotate，就是把 deque 看做一个收尾相连，而 rotate 就是把里面的元素向右或者向左移动若干位置。"
   ]
  },
  {
   "cell_type": "markdown",
   "metadata": {},
   "source": [
    "### 旋转操作\n",
    "使用 `rotate(n)` 可以将队列中的元素整体右移 `n` 步（`n` 为负时左移）。"
   ]
  },
  {
   "cell_type": "code",
   "metadata": {},
   "source": [
    "ordinals = deque([\"first\", \"second\", \"third\", \"fourth\"])\n",
    "ordinals.rotate()\n",
    "ordinals"
   ],
   "outputs": [],
   "execution_count": null
  },
  {
   "cell_type": "code",
   "metadata": {},
   "source": [
    "ordinals.rotate(2)\n",
    "ordinals"
   ],
   "outputs": [],
   "execution_count": null
  },
  {
   "cell_type": "code",
   "metadata": {},
   "source": [
    "ordinals.rotate(-1)\n",
    "ordinals"
   ],
   "outputs": [],
   "execution_count": null
  },
  {
   "cell_type": "markdown",
   "metadata": {},
   "source": [
    "还可以用 extend 和 extendleft 方法来一次往 deque 里添加一组元素，要特别注意 extendleft 是逆序扩展。"
   ]
  },
  {
   "cell_type": "markdown",
   "metadata": {},
   "source": [
    "## 4. 高级操作\n",
    "\n",
    "### 扩展元素（右侧）\n",
    "使用 `extend()` 方法可以在 **右端** 一次性添加多个元素。"
   ]
  },
  {
   "cell_type": "code",
   "metadata": {},
   "source": [
    "numbers = deque([1, 2])\n",
    "numbers.extend([3, 4, 5])\n",
    "numbers"
   ],
   "outputs": [],
   "execution_count": null
  },
  {
   "cell_type": "markdown",
   "metadata": {},
   "source": [
    "### 扩展元素（左侧）\n",
    "使用 `extendleft()` 方法可以在 **左端** 一次性添加多个元素。\n",
    "👉 注意：元素顺序会被反转。"
   ]
  },
  {
   "cell_type": "code",
   "metadata": {},
   "source": [
    "numbers.extendleft([-1, -2, -3, -4, -5])\n",
    "numbers"
   ],
   "outputs": [],
   "execution_count": null
  },
  {
   "cell_type": "markdown",
   "metadata": {},
   "source": [
    "deque 还支持 clear、copy、count、reverse、index 等方法，这些方法和 list 那边的用法基本一致。"
   ]
  },
  {
   "cell_type": "code",
   "metadata": {},
   "source": [
    "numbers = deque([1, 2, 2, 3, 4, 4, 5])\n",
    "\n",
    "numbers + deque([6, 7, 8])"
   ],
   "outputs": [],
   "execution_count": null
  },
  {
   "cell_type": "code",
   "metadata": {},
   "source": [
    "numbers * 2"
   ],
   "outputs": [],
   "execution_count": null
  },
  {
   "cell_type": "code",
   "metadata": {},
   "source": [
    "numbers.index(2)"
   ],
   "outputs": [],
   "execution_count": null
  },
  {
   "cell_type": "code",
   "metadata": {},
   "source": [
    "numbers.count(4)"
   ],
   "outputs": [],
   "execution_count": null
  },
  {
   "cell_type": "code",
   "metadata": {},
   "source": [
    "numbers.reverse()\n",
    "numbers"
   ],
   "outputs": [],
   "execution_count": null
  },
  {
   "cell_type": "code",
   "metadata": {},
   "source": [
    "numbers.clear()\n",
    "numbers"
   ],
   "outputs": [],
   "execution_count": null
  },
  {
   "cell_type": "markdown",
   "metadata": {},
   "source": [
    "\n",
    "## 7. 小结与练习\n",
    "\n",
    "- `deque` 是一个双端队列，支持两端的快速插入和删除。\n",
    "- 常见方法：`append`、`appendleft`、`pop`、`popleft`、`extend`、`rotate`、`maxlen`。\n",
    "- 相比 `list`，在队首操作上 `deque` 更高效。\n",
    "\n",
    "### 思考题\n",
    "1. 使用 `deque` 实现一个队列（先进先出）。\n",
    "2. 使用 `deque` 实现一个栈（后进先出）。\n",
    "3. 尝试用 `rotate` 实现循环队列。\n"
   ]
  }
 ],
 "metadata": {
  "kernelspec": {
   "display_name": "jupyter",
   "language": "python",
   "name": "python3"
  },
  "language_info": {
   "codemirror_mode": {
    "name": "ipython",
    "version": 3
   },
   "file_extension": ".py",
   "mimetype": "text/x-python",
   "name": "python",
   "nbconvert_exporter": "python",
   "pygments_lexer": "ipython3",
   "version": "3.11.9"
  }
 },
 "nbformat": 4,
 "nbformat_minor": 2
}
