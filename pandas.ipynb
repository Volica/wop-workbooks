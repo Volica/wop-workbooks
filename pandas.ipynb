{
 "cells": [
  {
   "cell_type": "markdown",
   "id": "3ea3136e6336f350",
   "metadata": {
    "collapsed": true
   },
   "source": [
    "# `pandas` 学习簿"
   ]
  },
  {
   "cell_type": "markdown",
   "id": "f2767c955ee07a96",
   "metadata": {},
   "source": [
    "`pandas` 是 `Python` 数据科学与数据分析领域无可替代的核心库，说它奠定了`Python`在结构化数据处理领域的生态基石，毫不夸张。\n",
    "`pandas` 这个名字，是 **Panel Data**（经济学中常用的多维面板数据）与 **Python Data Analysis** 两个概念的融合（这种结合领域特性与工具定位的命名方式，也让它在众多 Python 库中极具辨识度）。它构建在 `numpy` 强大的数组计算基础之上，提供了更贴合实际业务场景的结构化数据处理能力，核心是 `Series`（一维标记数据）与 `DataFrame`（二维表格数据）这两个灵活高效的数据结构，成为处理海量结构化数据的 “标配容器”。\n",
    "\n",
    "`pandas`是开源软件包，它的开发始于 2008 年，由美国量化分析师 _Wes McKinney_ 发起 —— 当时他在对冲基金 AQR Capital Management 处理金融数据时，发现现有 Python 工具（包括`numpy`）在结构化表格数据的标签索引、缺失值处理等场景下存在明显不足，无法满足金融分析的高效性与灵活性需求。于是，Wes 基于实际业务痛点，着手开发一款专门面向结构化数据的处理库，而这正是`pandas`的雏形。\n",
    "\n",
    "值得一提的是，`pandas` 从诞生起就与 `Python` 生态深度绑定 —— 它依赖 `numpy` 实现底层计算，同时为 `matplotlib`（可视化）、`scikit-learn`（机器学习）、`statsmodels`（统计分析）等库提供数据输入支持，形成了 “数据处理 - 分析 - 可视化 - 建模” 的完整工作流。\n",
    "\n",
    "下面是`pandas`的主要功能及特点：\n",
    "* 核心数据结构：`Series`（一维带标签数组，支持多数据类型，索引是其核心标识）与 `DataFrame`（二维表格结构，可存储不同类型列数据，通过行索引与列名双重定位，适配绝大多数业务数据场景）；\n",
    "全场景数据读写：支持 CSV、Excel、JSON、HTML、数据库（MySQL、SQLite 等）、HDF5、Parquet 等几乎所有主流数据格式，无需手动编写解析逻辑，一键实现数据导入导出；\n",
    "高效数据清洗：内置缺失值处理、重复值删除、数据类型转换、异常值识别等功能，快速解决 **“脏数据”** 问题；\n",
    "* 灵活索引与筛选：提供标签索引、位置索引、布尔索引等多种方式，支持单条件、多条件组合筛选，轻松定位目标数据；\n",
    "* 强大分组聚合：通过`groupby()`实现按单列 / 多列分组，结合`sum()/mean()`等内置函数计算统计指标；\n",
    "* 生态无缝集成：作为数据 “中间枢纽”，可直接与`numpy`（数组计算）、`matplotlib/seaborn`（可视化）、`scikit-learn`（机器学习预处理）对接，无需频繁转换数据格式；\n",
    "* 高性能处理能力：底层基于`numpy`且核心算法用 C 语言实现，处理百万级、千万级数据的速度远超纯`Python`循环，满足大规模数据处理需求。\n",
    "这份工作簿将带你快速入门`pandas`，掌握其核心数据结构与常用操作。而`pandas`的高级特性（如多层索引、自定义函数优化、大数据分块处理等），则需要你在实际业务场景中进一步探索 —— 而这里，只是你结构化数据处理之旅的起点🕖。\n",
    "\n",
    "⚠ 注意：本工作簿假定你已掌握 Python 基础语法，且对 numpy 有初步了解（如数组概念、基本运算）。若你是 Python 初学者，建议先通过 [Python基础教程](https://slp.shuishan.net.cn/book/9Wd2sIcOOh6) 掌握变量、列表、字典等基础概念；若对 numpy 不熟悉，也可先学习[numpy入门知识](../workbooks/numpy.ipynb)，为 pandas 学习打下更扎实的基础。"
   ]
  },
  {
   "cell_type": "markdown",
   "id": "7072bc144040394f",
   "metadata": {},
   "source": [
    "## 准备工作"
   ]
  },
  {
   "cell_type": "markdown",
   "id": "b806e22f15a55d09",
   "metadata": {},
   "source": [
    "你可以通过 `pip` 来安装 `pandas`：\n",
    "```bash\n",
    "pip install pandas\n",
    "```\n",
    "安装成功后，就可以在你的程序中引入 `pandas` 库(导入`pandas`一般使用别名`pd`代替)："
   ]
  },
  {
   "cell_type": "code",
   "execution_count": 1,
   "id": "cbcfb1bd7bfd12db",
   "metadata": {
    "ExecuteTime": {
     "end_time": "2025-09-30T06:35:28.601155Z",
     "start_time": "2025-09-30T06:35:26.901061Z"
    }
   },
   "outputs": [],
   "source": [
    "import pandas as pd"
   ]
  },
  {
   "cell_type": "markdown",
   "id": "6c5f85aba49d1bb7",
   "metadata": {},
   "source": [
    "可以通过一个简单的实例来验证pandas是否安装成功："
   ]
  },
  {
   "cell_type": "code",
   "execution_count": 2,
   "id": "a87b409bfacd02c3",
   "metadata": {
    "ExecuteTime": {
     "end_time": "2025-09-28T03:50:57.132936Z",
     "start_time": "2025-09-28T03:50:57.110382Z"
    }
   },
   "outputs": [
    {
     "name": "stdout",
     "output_type": "stream",
     "text": [
      "      Name  ID\n",
      "0     Data   1\n",
      "1    Power   2\n",
      "2  Science   3\n"
     ]
    }
   ],
   "source": [
    "# 创建一个简单的 DataFrame\n",
    "data = {'Name': ['Data', 'Power', 'Science'], 'ID': [1, 2, 3]}\n",
    "df = pd.DataFrame(data)\n",
    "\n",
    "# 查看 DataFrame\n",
    "print(df)"
   ]
  },
  {
   "cell_type": "markdown",
   "id": "daca64d1b3f30887",
   "metadata": {},
   "source": [
    "在`pandas`中，我们先来了解两个重要的结构——`Series`和`DataFrame`"
   ]
  },
  {
   "cell_type": "markdown",
   "id": "857c31f4e1f50129",
   "metadata": {},
   "source": [
    "## Series"
   ]
  },
  {
   "cell_type": "markdown",
   "id": "47ca0209fdc0d9b1",
   "metadata": {},
   "source": [
    "`Series` 是`pandas`的核心结构之一，可以把它看作带标签的一维数组。\n",
    "它类似于 字典 + 数组 的结合：既有数据值，又有索引。\n",
    "同时，它可以存储任何数据类型（整数、浮点数、字符串、对象、Python 列表等）。"
   ]
  },
  {
   "cell_type": "markdown",
   "id": "27fcb973ecd54843",
   "metadata": {},
   "source": [
    "### 创建Series\n",
    "\n",
    "可以从列表或者数组中创建"
   ]
  },
  {
   "cell_type": "code",
   "execution_count": 3,
   "id": "d1e677753b6718b7",
   "metadata": {
    "ExecuteTime": {
     "end_time": "2025-09-28T03:35:18.086630900Z",
     "start_time": "2025-09-28T01:17:14.319304Z"
    }
   },
   "outputs": [
    {
     "name": "stdout",
     "output_type": "stream",
     "text": [
      "0    10\n",
      "1    20\n",
      "2    30\n",
      "3    40\n",
      "dtype: int64\n"
     ]
    }
   ],
   "source": [
    "import pandas as pd\n",
    "\n",
    "s = pd.Series([10, 20, 30, 40])\n",
    "print(s)"
   ]
  },
  {
   "cell_type": "markdown",
   "id": "7b723614e9f4c260",
   "metadata": {},
   "source": [
    "也可以通过自定义索引创建"
   ]
  },
  {
   "cell_type": "code",
   "execution_count": 4,
   "id": "7cde7e71d7922bab",
   "metadata": {
    "ExecuteTime": {
     "end_time": "2025-09-28T03:35:18.087630800Z",
     "start_time": "2025-09-28T01:17:14.447832Z"
    }
   },
   "outputs": [
    {
     "name": "stdout",
     "output_type": "stream",
     "text": [
      "a    10\n",
      "b    20\n",
      "c    30\n",
      "dtype: int64\n"
     ]
    }
   ],
   "source": [
    "s1 = pd.Series([10, 20, 30], index=['a', 'b', 'c'])\n",
    "print(s1)"
   ]
  },
  {
   "cell_type": "markdown",
   "id": "80cc3a1b1f90f443",
   "metadata": {},
   "source": [
    "还可以通过字典创建。前两种方式，都是只传递了数据，那么索引是默认索引（0 ~ N-1，没错，索引值是从0开始的）；下面的字典创建方式，则是以字典的键为索引，字典的值为数据。"
   ]
  },
  {
   "cell_type": "code",
   "execution_count": 5,
   "id": "febbc12cafe3c752",
   "metadata": {},
   "outputs": [
    {
     "name": "stdout",
     "output_type": "stream",
     "text": [
      "a    100\n",
      "b    200\n",
      "c    300\n",
      "dtype: int64\n"
     ]
    }
   ],
   "source": [
    "data = {'a': 100, 'b': 200, 'c': 300}\n",
    "s2 = pd.Series(data)\n",
    "print(s2)"
   ]
  },
  {
   "cell_type": "markdown",
   "id": "11c837a38f299e02",
   "metadata": {},
   "source": [
    "![img](assets/seires.png)"
   ]
  },
  {
   "cell_type": "markdown",
   "id": "a7a3969a2a9673fd",
   "metadata": {},
   "source": [
    "当然，最完整的创建方式可以看下面的参数设置\n",
    "\n",
    "```bash\n",
    "pandas.Series(data=None, index=None, dtype=None, name=None, copy=False, fastpath=False)\n",
    "\n",
    "```"
   ]
  },
  {
   "cell_type": "markdown",
   "id": "e9bece47be9cac",
   "metadata": {},
   "source": [
    "* **data**：`Series`的数据部分，可以是列表、数组、字典、标量值等。如果不提供此参数，则创建一个空的 Series。\n",
    "* **index**：`Series` 的索引部分，用于对数据进行标记。可以是列表、数组、索引对象等。如果不提供此参数，则创建一个默认的整数索引。\n",
    "* **dtype**：指定`Series`的数据类型。可以是`numpy`的数据类型，例如`np.int64`、`np.float64`等。如果不提供此参数，则根据数据自动推断数据类型。\n",
    "* **name**：`Series` 的名称，用于标识`Series`对象。如果提供了此参数，则创建的`Series`对象将具有指定的名称。\n",
    "* **copy**：是否复制数据。默认为`False`，表示不复制数据。如果设置为`True`，则复制输入的数据。\n",
    "* **fastpath**：是否启用快速路径。默认为`False`。启用快速路径可能会在某些情况下提高性能。\n"
   ]
  },
  {
   "cell_type": "markdown",
   "id": "bde840d9465effb2",
   "metadata": {},
   "source": [
    "## 索引"
   ]
  },
  {
   "cell_type": "markdown",
   "id": "fda9ed52413a4842",
   "metadata": {},
   "source": [
    "从上述有关`seires`的创建中可以发现，**series的索引不是固定的，是可以修改的**。"
   ]
  },
  {
   "cell_type": "markdown",
   "id": "de5fed6865cec65e",
   "metadata": {},
   "source": [
    "### 按标签索引（类似字典）"
   ]
  },
  {
   "cell_type": "code",
   "execution_count": 6,
   "id": "9ed1f1e9eb45bd29",
   "metadata": {
    "ExecuteTime": {
     "end_time": "2025-09-28T03:35:18.111516200Z",
     "start_time": "2025-09-28T01:17:14.552354Z"
    }
   },
   "outputs": [
    {
     "name": "stdout",
     "output_type": "stream",
     "text": [
      "a    10\n",
      "b    20\n",
      "c    30\n",
      "d    40\n",
      "dtype: int64\n"
     ]
    }
   ],
   "source": [
    "import pandas as pd\n",
    "s3 = pd.Series([10, 20, 30, 40], index=['a','b','c','d'])\n",
    "\n",
    "print(s3)"
   ]
  },
  {
   "cell_type": "code",
   "execution_count": 7,
   "id": "a9dae8aaba15160e",
   "metadata": {
    "ExecuteTime": {
     "end_time": "2025-09-28T03:35:18.113516300Z",
     "start_time": "2025-09-28T01:17:14.603874Z"
    }
   },
   "outputs": [
    {
     "name": "stdout",
     "output_type": "stream",
     "text": [
      "10\n",
      "a    10\n",
      "c    30\n",
      "dtype: int64\n"
     ]
    }
   ],
   "source": [
    "print(s3['a'])       # 单个标签 → 10\n",
    "print(s3[['a','c']]) # 多个标签 → 返回新的 Series"
   ]
  },
  {
   "cell_type": "markdown",
   "id": "121011e10d4c0cf4",
   "metadata": {},
   "source": [
    "### 按位置索引（类似列表/数组）"
   ]
  },
  {
   "cell_type": "code",
   "execution_count": 8,
   "id": "e0b5d088f0d5bad7",
   "metadata": {
    "ExecuteTime": {
     "end_time": "2025-09-28T03:35:18.120666500Z",
     "start_time": "2025-09-28T01:17:14.631872Z"
    }
   },
   "outputs": [
    {
     "name": "stdout",
     "output_type": "stream",
     "text": [
      "10\n",
      "30\n",
      "a    10\n",
      "c    30\n",
      "dtype: int64\n"
     ]
    },
    {
     "name": "stderr",
     "output_type": "stream",
     "text": [
      "C:\\Users\\DELL\\AppData\\Local\\Temp\\ipykernel_21304\\2201123397.py:1: FutureWarning: Series.__getitem__ treating keys as positions is deprecated. In a future version, integer keys will always be treated as labels (consistent with DataFrame behavior). To access a value by position, use `ser.iloc[pos]`\n",
      "  print(s3[0])     # 第1个元素 → 10\n",
      "C:\\Users\\DELL\\AppData\\Local\\Temp\\ipykernel_21304\\2201123397.py:2: FutureWarning: Series.__getitem__ treating keys as positions is deprecated. In a future version, integer keys will always be treated as labels (consistent with DataFrame behavior). To access a value by position, use `ser.iloc[pos]`\n",
      "  print(s3[2])     # 第3个元素 → 30\n",
      "C:\\Users\\DELL\\AppData\\Local\\Temp\\ipykernel_21304\\2201123397.py:3: FutureWarning: Series.__getitem__ treating keys as positions is deprecated. In a future version, integer keys will always be treated as labels (consistent with DataFrame behavior). To access a value by position, use `ser.iloc[pos]`\n",
      "  print(s3[[0, 2]]) # 多个位置 → [10, 30]\n"
     ]
    }
   ],
   "source": [
    "print(s3[0])     # 第1个元素 → 10\n",
    "print(s3[2])     # 第3个元素 → 30\n",
    "print(s3[[0, 2]]) # 多个位置 → [10, 30]"
   ]
  },
  {
   "cell_type": "markdown",
   "id": "36e480098c2bb2e7",
   "metadata": {},
   "source": [
    "### 推荐写法：`.loc[]`和`.iloc[]`"
   ]
  },
  {
   "cell_type": "markdown",
   "id": "b04c048aaa83e5f2",
   "metadata": {},
   "source": [
    "* `loc` → 按标签寻找\n",
    "* `iloc` → 按位置寻找\n"
   ]
  },
  {
   "cell_type": "code",
   "execution_count": 9,
   "id": "57c730bf961c0a9d",
   "metadata": {
    "ExecuteTime": {
     "end_time": "2025-09-28T03:35:18.125721900Z",
     "start_time": "2025-09-28T01:17:14.666874Z"
    }
   },
   "outputs": [
    {
     "name": "stdout",
     "output_type": "stream",
     "text": [
      "20\n",
      "20\n"
     ]
    }
   ],
   "source": [
    "print(s3.loc['b'])      # 标签 → 20\n",
    "print(s3.iloc[1])       # 位置 → 20"
   ]
  },
  {
   "cell_type": "markdown",
   "id": "7dcada3398b65057",
   "metadata": {},
   "source": [
    "## 切片"
   ]
  },
  {
   "cell_type": "markdown",
   "id": "d740fdce059940bc",
   "metadata": {},
   "source": [
    "切片操作是获取新的seires对象的操作。"
   ]
  },
  {
   "cell_type": "markdown",
   "id": "df644a3b7b26187b",
   "metadata": {},
   "source": [
    "### 按位置切片\n",
    "\n",
    "和python列表一致，左闭右开\n"
   ]
  },
  {
   "cell_type": "code",
   "execution_count": 10,
   "id": "4b2697e5bb727a69",
   "metadata": {
    "ExecuteTime": {
     "end_time": "2025-09-28T03:35:18.128721400Z",
     "start_time": "2025-09-28T01:17:14.706550Z"
    }
   },
   "outputs": [
    {
     "name": "stdout",
     "output_type": "stream",
     "text": [
      "b    20\n",
      "c    30\n",
      "dtype: int64\n"
     ]
    }
   ],
   "source": [
    "print(s3[1:3])  # b, c → 20, 30"
   ]
  },
  {
   "cell_type": "markdown",
   "id": "c337c8173e0fb3bc",
   "metadata": {},
   "source": [
    "### 按标签切片\n",
    "左闭右闭，和`按位置切片`不同"
   ]
  },
  {
   "cell_type": "code",
   "execution_count": 11,
   "id": "493238b84a07860f",
   "metadata": {
    "ExecuteTime": {
     "end_time": "2025-09-28T03:35:18.131793300Z",
     "start_time": "2025-09-28T01:17:14.732550Z"
    }
   },
   "outputs": [
    {
     "name": "stdout",
     "output_type": "stream",
     "text": [
      "b    20\n",
      "c    30\n",
      "d    40\n",
      "dtype: int64\n"
     ]
    }
   ],
   "source": [
    "print(s3['b':'d'])\n",
    "# 输出 b,c,d → 20, 30, 40"
   ]
  },
  {
   "cell_type": "markdown",
   "id": "b0cc460c82ee027a",
   "metadata": {},
   "source": [
    "关于开闭区间，可以简单总结如下：\n",
    "* **位置切片**: `[start:stop]` → 不包含stop\n",
    "* **标签切片**: `[start:stop]` → 包含stop"
   ]
  },
  {
   "cell_type": "markdown",
   "id": "d47104868931da7c",
   "metadata": {},
   "source": [
    "### 布尔索引（条件筛选）"
   ]
  },
  {
   "cell_type": "code",
   "execution_count": 12,
   "id": "982cd4200d19b12a",
   "metadata": {
    "ExecuteTime": {
     "end_time": "2025-09-28T03:35:18.138870100Z",
     "start_time": "2025-09-28T01:17:14.758549Z"
    }
   },
   "outputs": [
    {
     "name": "stdout",
     "output_type": "stream",
     "text": [
      "c    30\n",
      "d    40\n",
      "dtype: int64\n",
      "b    20\n",
      "c    30\n",
      "dtype: int64\n"
     ]
    }
   ],
   "source": [
    "print(s3[s3 > 20])   # c=30, d=40\n",
    "print(s3[(s3 >= 20) & (s3 <= 30)])  # b=20, c=30"
   ]
  },
  {
   "cell_type": "markdown",
   "id": "b3220c4b7625dd0f",
   "metadata": {},
   "source": [
    "同时，索引不仅仅能提取数据，还能修改数据"
   ]
  },
  {
   "cell_type": "code",
   "execution_count": 13,
   "id": "74bac1977c72be16",
   "metadata": {
    "ExecuteTime": {
     "end_time": "2025-09-28T03:35:18.145144300Z",
     "start_time": "2025-09-28T01:17:14.786068Z"
    }
   },
   "outputs": [
    {
     "name": "stdout",
     "output_type": "stream",
     "text": [
      "a    10\n",
      "b    20\n",
      "c    30\n",
      "d    40\n",
      "dtype: int64\n"
     ]
    }
   ],
   "source": [
    "# 先打印原有series\n",
    "print(s3)"
   ]
  },
  {
   "cell_type": "code",
   "execution_count": 14,
   "id": "1b7072ede73ecc45",
   "metadata": {
    "ExecuteTime": {
     "end_time": "2025-09-28T03:35:18.150228700Z",
     "start_time": "2025-09-28T01:17:14.831077Z"
    }
   },
   "outputs": [
    {
     "name": "stdout",
     "output_type": "stream",
     "text": [
      "a    100\n",
      "b    200\n",
      "c     30\n",
      "d     40\n",
      "dtype: int64\n"
     ]
    }
   ],
   "source": [
    "# 修改series的内容，之后对比差距\n",
    "s3['a'] = 100\n",
    "s3.iloc[1] = 200\n",
    "print(s3)"
   ]
  },
  {
   "cell_type": "markdown",
   "id": "effd5f6daa3a7716",
   "metadata": {},
   "source": [
    "## Series的常用方法"
   ]
  },
  {
   "cell_type": "markdown",
   "id": "68496fdb2ef651d0",
   "metadata": {},
   "source": [
    "| 方法名称        | 功能描述 | 示例代码 |\n",
    "|-----------------|----------|----------|\n",
    "| `index`         | 获取 Series 的索引 | `s.index` |\n",
    "| `values`        | 获取 Series 的数据部分（返回 NumPy 数组） | `s.values` |\n",
    "| `head(n)`       | 返回 Series 的前 n 行（默认为 5） | `s.head(3)` |\n",
    "| `tail(n)`       | 返回 Series 的后 n 行（默认为 5） | `s.tail(2)` |\n",
    "| `dtype`         | 返回 Series 中数据的类型 | `s.dtype` |\n",
    "| `shape`         | 返回 Series 的形状（行数） | `s.shape` |\n",
    "| `describe()`    | 返回 Series 的统计描述（如均值、标准差、最小值等） | `s.describe()` |\n",
    "| `isnull()`      | 返回一个布尔 Series，表示每个元素是否为 NaN | `s.isnull()` |\n",
    "| `notnull()`     | 返回一个布尔 Series，表示每个元素是否不是 NaN | `s.notnull()` |\n",
    "| `unique()`      | 返回 Series 中的唯一值（去重） | `s.unique()` |\n",
    "| `value_counts()`| 返回 Series 中每个唯一值的出现次数 | `s.value_counts()` |\n",
    "| `map(func)`     | 将指定函数应用于 Series 中的每个元素 | `s.map(lambda x: x*2)` |\n",
    "| `apply(func)`   | 将指定函数应用于 Series 中的每个元素，常用于自定义操作 | `s.apply(str)` |\n",
    "| `astype(dtype)` | 将 Series 转换为指定的类型 | `s.astype(float)` |\n",
    "| `sort_values()` | 对 Series 中的元素进行排序（按值排序） | `s.sort_values()` |\n",
    "| `sort_index()`  | 对 Series 的索引进行排序 | `s.sort_index()` |\n",
    "| `dropna()`      | 删除 Series 中的缺失值（NaN） | `s.dropna()` |\n",
    "| `fillna(value)` | 填充 Series 中的缺失值（NaN） | `s.fillna(0)` |\n",
    "| `replace(to_replace, value)` | 替换 Series 中指定的值 | `s.replace(1, 100)` |\n",
    "| `cumsum()`      | 返回 Series 的累计求和 | `s.cumsum()` |\n",
    "| `cumprod()`     | 返回 Series 的累计乘积 | `s.cumprod()` |\n",
    "| `shift(periods)`| 将 Series 中的元素按指定的步数进行位移 | `s.shift(1)` |\n",
    "| `rank()`        | 返回 Series 中元素的排名 | `s.rank()` |\n",
    "| `corr(other)`   | 计算 Series 与另一个 Series 的相关性（皮尔逊相关系数） | `s.corr(s2)` |\n",
    "| `cov(other)`    | 计算 Series 与另一个 Series 的协方差 | `s.cov(s2)` |\n",
    "| `to_list()`     | 将 Series 转换为 Python 列表 | `s.to_list()` |\n",
    "| `to_frame()`    | 将 Series 转换为 DataFrame | `s.to_frame()` |\n",
    "| `iloc[]`        | 通过位置索引来选择数据 | `s.iloc[0:2]` |\n",
    "| `loc[]`         | 通过标签索引来选择数据 | `s.loc['a':'c']` |\n"
   ]
  },
  {
   "cell_type": "markdown",
   "id": "ba1c1d293ee8491e",
   "metadata": {},
   "source": [
    "可以自行试验一下上述的方法"
   ]
  },
  {
   "cell_type": "markdown",
   "id": "528552b6f88ea94c",
   "metadata": {},
   "source": [
    "## DataFrame"
   ]
  },
  {
   "cell_type": "markdown",
   "id": "2ea322cb55a5e035",
   "metadata": {},
   "source": [
    "* **DataFrame 是一个二维表格型数据结构**，既有 **行索引（index）**，也有 **列索引（columns）**。\n",
    "* 每一列是一个 **Series**，但不同列可以是 **不同数据类型**（整数、浮点数、字符串等）。\n"
   ]
  },
  {
   "cell_type": "markdown",
   "id": "fcda1a83e6437951",
   "metadata": {},
   "source": [
    "### 创建DataFrame\n",
    "\n",
    "可以从字典中创建"
   ]
  },
  {
   "cell_type": "code",
   "execution_count": 15,
   "id": "864edfda2e742af7",
   "metadata": {},
   "outputs": [
    {
     "name": "stdout",
     "output_type": "stream",
     "text": [
      "      Name  Age  Score\n",
      "0    Alice   25   85.5\n",
      "1      Bob   30   92.0\n",
      "2  Charlie   35   78.0\n"
     ]
    }
   ],
   "source": [
    "import pandas as pd\n",
    "\n",
    "data1 = {\n",
    "    'Name': ['Alice', 'Bob', 'Charlie'],\n",
    "    'Age': [25, 30, 35],\n",
    "    'Score': [85.5, 92.0, 78.0]\n",
    "}\n",
    "\n",
    "df = pd.DataFrame(data1)\n",
    "print(df)"
   ]
  },
  {
   "cell_type": "markdown",
   "id": "9c84e50f93531a25",
   "metadata": {},
   "source": [
    "也可以从列表创建"
   ]
  },
  {
   "cell_type": "code",
   "execution_count": 16,
   "id": "c405addbe9a9e32c",
   "metadata": {
    "ExecuteTime": {
     "end_time": "2025-09-28T03:35:18.152229300Z",
     "start_time": "2025-09-28T01:17:14.910601Z"
    }
   },
   "outputs": [
    {
     "name": "stdout",
     "output_type": "stream",
     "text": [
      "      Name  Age  Score\n",
      "0    Alice   25   85.5\n",
      "1      Bob   30   92.0\n",
      "2  Charlie   35   78.0\n"
     ]
    }
   ],
   "source": [
    "data2 = [\n",
    "    ['Alice', 25, 85.5],\n",
    "    ['Bob', 30, 92.0],\n",
    "    ['Charlie', 35, 78.0]\n",
    "]\n",
    "\n",
    "df1 = pd.DataFrame(data2, columns=['Name','Age','Score'])\n",
    "print(df1)"
   ]
  },
  {
   "cell_type": "markdown",
   "id": "5e4d743826991714",
   "metadata": {},
   "source": [
    "当然，其实也可以从`series`中创建"
   ]
  },
  {
   "cell_type": "code",
   "execution_count": 17,
   "id": "df57881483fb7bbf",
   "metadata": {},
   "outputs": [
    {
     "name": "stdout",
     "output_type": "stream",
     "text": [
      "   Age  Score\n",
      "a   25     85\n",
      "b   30     90\n",
      "c   35     95\n"
     ]
    }
   ],
   "source": [
    "df2 = pd.DataFrame({\n",
    "    'Age': pd.Series([25,30,35], index=['a','b','c']),\n",
    "    'Score': pd.Series([85,90,95], index=['a','b','c'])\n",
    "})\n",
    "print(df2)"
   ]
  },
  {
   "cell_type": "markdown",
   "id": "f935863fcd186360",
   "metadata": {},
   "source": [
    "## DataFrame的属性"
   ]
  },
  {
   "cell_type": "markdown",
   "id": "ab334c733dbf3235",
   "metadata": {},
   "source": [
    "我们有的时候需要获取`DataFrame`的属性数据，常见的有以下："
   ]
  },
  {
   "cell_type": "code",
   "execution_count": null,
   "id": "f32e96173fe39784",
   "metadata": {},
   "outputs": [
    {
     "name": "stdout",
     "output_type": "stream",
     "text": [
      "(3, 3)\n",
      "Index(['Name', 'Age', 'Score'], dtype='object')\n",
      "RangeIndex(start=0, stop=3, step=1)\n",
      "      Name  Age  Score\n",
      "0    Alice   25   85.5\n",
      "1      Bob   30   92.0\n",
      "2  Charlie   35   78.0\n",
      "      Name  Age  Score\n",
      "0    Alice   25   85.5\n",
      "1      Bob   30   92.0\n",
      "2  Charlie   35   78.0\n",
      "<class 'pandas.core.frame.DataFrame'>\n",
      "RangeIndex: 3 entries, 0 to 2\n",
      "Data columns (total 3 columns):\n",
      " #   Column  Non-Null Count  Dtype  \n",
      "---  ------  --------------  -----  \n",
      " 0   Name    3 non-null      object \n",
      " 1   Age     3 non-null      int64  \n",
      " 2   Score   3 non-null      float64\n",
      "dtypes: float64(1), int64(1), object(1)\n",
      "memory usage: 204.0+ bytes\n",
      "None\n",
      "        Age      Score\n",
      "count   3.0   3.000000\n",
      "mean   30.0  85.166667\n",
      "std     5.0   7.005950\n",
      "min    25.0  78.000000\n",
      "25%    27.5  81.750000\n",
      "50%    30.0  85.500000\n",
      "75%    32.5  88.750000\n",
      "max    35.0  92.000000\n",
      "Age      30.0\n",
      "Score    90.0\n",
      "dtype: float64\n",
      "Name     AliceBobCharlie\n",
      "Age                   90\n",
      "Score              255.5\n",
      "dtype: object\n"
     ]
    }
   ],
   "source": [
    "print(df.shape)     # 形状\n",
    "print(df.columns)   # 列名\n",
    "print(df.index)     # 索引\n",
    "print(df.head())    # 前几行数据，默认是前 5 行\n",
    "print(df.tail())    # 后几行数据，默认是后 5 行\n",
    "print(df.info())    # 数据信息\n",
    "print(df.describe())# 描述统计信息\n",
    "print(df2.mean())    # 求平均值\n",
    "print(df.sum())     # 求和\n"
   ]
  },
  {
   "cell_type": "markdown",
   "id": "9dd7d7604b9e503d",
   "metadata": {},
   "source": [
    "## DataFrame的基本操作"
   ]
  },
  {
   "cell_type": "code",
   "execution_count": null,
   "id": "404ab8547dd500c4",
   "metadata": {
    "ExecuteTime": {
     "end_time": "2025-09-28T03:35:18.157287900Z",
     "start_time": "2025-09-28T01:17:15.028759Z"
    }
   },
   "outputs": [
    {
     "name": "stdout",
     "output_type": "stream",
     "text": [
      "      Name   Age  Score\n",
      "0    Alice  25.0   85.5\n",
      "1      Bob  30.0   92.0\n",
      "2  Charlie  35.0   78.0\n",
      "3      Amy   NaN    NaN\n",
      "4     Jack  30.0   99.0\n"
     ]
    }
   ],
   "source": [
    "import pandas as pd\n",
    "import numpy as np\n",
    "\n",
    "data3 = {\n",
    "    'Name': ['Alice', 'Bob', 'Charlie', 'Amy', 'Jack'],\n",
    "    'Age': [25, 30, 35, np.nan, 30],   # 插入空值\n",
    "    'Score': [85.5, 92.0, 78.0, np.nan, 99.0]  # 这里也加了一个空值\n",
    "}\n",
    "\n",
    "df3 = pd.DataFrame(data3)\n",
    "print(df3)\n"
   ]
  },
  {
   "cell_type": "markdown",
   "id": "db79fcb250bf3377",
   "metadata": {},
   "source": [
    "### 选取列"
   ]
  },
  {
   "cell_type": "code",
   "execution_count": null,
   "id": "fd2b908e7bebda37",
   "metadata": {
    "ExecuteTime": {
     "end_time": "2025-09-28T03:35:18.158289600Z",
     "start_time": "2025-09-28T01:17:15.055758Z"
    }
   },
   "outputs": [
    {
     "data": {
      "text/plain": [
       "0    25.0\n",
       "1    30.0\n",
       "2    35.0\n",
       "3     NaN\n",
       "4    30.0\n",
       "Name: Age, dtype: float64"
      ]
     },
     "execution_count": 20,
     "metadata": {},
     "output_type": "execute_result"
    }
   ],
   "source": [
    "df3['Age']          # 返回 Series"
   ]
  },
  {
   "cell_type": "code",
   "execution_count": null,
   "id": "a6caa2d120f58eb8",
   "metadata": {
    "ExecuteTime": {
     "end_time": "2025-09-28T03:35:18.159288Z",
     "start_time": "2025-09-28T01:17:15.107280Z"
    }
   },
   "outputs": [
    {
     "data": {
      "text/html": [
       "<div>\n",
       "<style scoped>\n",
       "    .dataframe tbody tr th:only-of-type {\n",
       "        vertical-align: middle;\n",
       "    }\n",
       "\n",
       "    .dataframe tbody tr th {\n",
       "        vertical-align: top;\n",
       "    }\n",
       "\n",
       "    .dataframe thead th {\n",
       "        text-align: right;\n",
       "    }\n",
       "</style>\n",
       "<table border=\"1\" class=\"dataframe\">\n",
       "  <thead>\n",
       "    <tr style=\"text-align: right;\">\n",
       "      <th></th>\n",
       "      <th>Age</th>\n",
       "      <th>Score</th>\n",
       "    </tr>\n",
       "  </thead>\n",
       "  <tbody>\n",
       "    <tr>\n",
       "      <th>0</th>\n",
       "      <td>25.0</td>\n",
       "      <td>85.5</td>\n",
       "    </tr>\n",
       "    <tr>\n",
       "      <th>1</th>\n",
       "      <td>30.0</td>\n",
       "      <td>92.0</td>\n",
       "    </tr>\n",
       "    <tr>\n",
       "      <th>2</th>\n",
       "      <td>35.0</td>\n",
       "      <td>78.0</td>\n",
       "    </tr>\n",
       "    <tr>\n",
       "      <th>3</th>\n",
       "      <td>NaN</td>\n",
       "      <td>NaN</td>\n",
       "    </tr>\n",
       "    <tr>\n",
       "      <th>4</th>\n",
       "      <td>30.0</td>\n",
       "      <td>99.0</td>\n",
       "    </tr>\n",
       "  </tbody>\n",
       "</table>\n",
       "</div>"
      ],
      "text/plain": [
       "    Age  Score\n",
       "0  25.0   85.5\n",
       "1  30.0   92.0\n",
       "2  35.0   78.0\n",
       "3   NaN    NaN\n",
       "4  30.0   99.0"
      ]
     },
     "execution_count": 21,
     "metadata": {},
     "output_type": "execute_result"
    }
   ],
   "source": [
    "df3[['Age','Score']]  # 返回 DataFrame"
   ]
  },
  {
   "cell_type": "markdown",
   "id": "c0b4d71ee5e858cb",
   "metadata": {},
   "source": [
    "### 选取行"
   ]
  },
  {
   "cell_type": "code",
   "execution_count": null,
   "id": "31b9124db6f4fb40",
   "metadata": {
    "ExecuteTime": {
     "end_time": "2025-09-28T03:35:18.161357800Z",
     "start_time": "2025-09-28T01:17:15.300330Z"
    }
   },
   "outputs": [
    {
     "data": {
      "text/plain": [
       "Name     Alice\n",
       "Age         25\n",
       "Score     85.5\n",
       "Name: 0, dtype: object"
      ]
     },
     "execution_count": 22,
     "metadata": {},
     "output_type": "execute_result"
    }
   ],
   "source": [
    "df3.iloc[0]        # 按位置，返回 Series"
   ]
  },
  {
   "cell_type": "code",
   "execution_count": null,
   "id": "90cff768b37fa59",
   "metadata": {
    "ExecuteTime": {
     "end_time": "2025-09-28T03:35:18.161357800Z",
     "start_time": "2025-09-28T01:17:15.400854Z"
    }
   },
   "outputs": [
    {
     "data": {
      "text/plain": [
       "Name     Alice\n",
       "Age         25\n",
       "Score     85.5\n",
       "Name: 0, dtype: object"
      ]
     },
     "execution_count": 23,
     "metadata": {},
     "output_type": "execute_result"
    }
   ],
   "source": [
    "df3.loc[0]         # 按标签，返回 Series"
   ]
  },
  {
   "cell_type": "code",
   "execution_count": null,
   "id": "3e6acaeb8038f5f8",
   "metadata": {
    "ExecuteTime": {
     "end_time": "2025-09-28T03:35:18.161357800Z",
     "start_time": "2025-09-28T01:17:15.684909Z"
    }
   },
   "outputs": [
    {
     "data": {
      "text/html": [
       "<div>\n",
       "<style scoped>\n",
       "    .dataframe tbody tr th:only-of-type {\n",
       "        vertical-align: middle;\n",
       "    }\n",
       "\n",
       "    .dataframe tbody tr th {\n",
       "        vertical-align: top;\n",
       "    }\n",
       "\n",
       "    .dataframe thead th {\n",
       "        text-align: right;\n",
       "    }\n",
       "</style>\n",
       "<table border=\"1\" class=\"dataframe\">\n",
       "  <thead>\n",
       "    <tr style=\"text-align: right;\">\n",
       "      <th></th>\n",
       "      <th>Name</th>\n",
       "      <th>Age</th>\n",
       "      <th>Score</th>\n",
       "    </tr>\n",
       "  </thead>\n",
       "  <tbody>\n",
       "    <tr>\n",
       "      <th>0</th>\n",
       "      <td>Alice</td>\n",
       "      <td>25.0</td>\n",
       "      <td>85.5</td>\n",
       "    </tr>\n",
       "    <tr>\n",
       "      <th>1</th>\n",
       "      <td>Bob</td>\n",
       "      <td>30.0</td>\n",
       "      <td>92.0</td>\n",
       "    </tr>\n",
       "  </tbody>\n",
       "</table>\n",
       "</div>"
      ],
      "text/plain": [
       "    Name   Age  Score\n",
       "0  Alice  25.0   85.5\n",
       "1    Bob  30.0   92.0"
      ]
     },
     "execution_count": 24,
     "metadata": {},
     "output_type": "execute_result"
    }
   ],
   "source": [
    "df3[0:2]           # 切片，返回 DataFrame"
   ]
  },
  {
   "cell_type": "markdown",
   "id": "e08e302cd9e591fe",
   "metadata": {},
   "source": [
    "### 条件筛选"
   ]
  },
  {
   "cell_type": "code",
   "execution_count": null,
   "id": "7005dc37e3cad1dd",
   "metadata": {
    "ExecuteTime": {
     "end_time": "2025-09-28T03:35:18.162357800Z",
     "start_time": "2025-09-28T01:17:15.927005Z"
    }
   },
   "outputs": [
    {
     "data": {
      "text/html": [
       "<div>\n",
       "<style scoped>\n",
       "    .dataframe tbody tr th:only-of-type {\n",
       "        vertical-align: middle;\n",
       "    }\n",
       "\n",
       "    .dataframe tbody tr th {\n",
       "        vertical-align: top;\n",
       "    }\n",
       "\n",
       "    .dataframe thead th {\n",
       "        text-align: right;\n",
       "    }\n",
       "</style>\n",
       "<table border=\"1\" class=\"dataframe\">\n",
       "  <thead>\n",
       "    <tr style=\"text-align: right;\">\n",
       "      <th></th>\n",
       "      <th>Name</th>\n",
       "      <th>Age</th>\n",
       "      <th>Score</th>\n",
       "    </tr>\n",
       "  </thead>\n",
       "  <tbody>\n",
       "    <tr>\n",
       "      <th>1</th>\n",
       "      <td>Bob</td>\n",
       "      <td>30.0</td>\n",
       "      <td>92.0</td>\n",
       "    </tr>\n",
       "    <tr>\n",
       "      <th>4</th>\n",
       "      <td>Jack</td>\n",
       "      <td>30.0</td>\n",
       "      <td>99.0</td>\n",
       "    </tr>\n",
       "  </tbody>\n",
       "</table>\n",
       "</div>"
      ],
      "text/plain": [
       "   Name   Age  Score\n",
       "1   Bob  30.0   92.0\n",
       "4  Jack  30.0   99.0"
      ]
     },
     "execution_count": 25,
     "metadata": {},
     "output_type": "execute_result"
    }
   ],
   "source": [
    "df3[df3['Score'] > 90] # 筛选分数大于90分的数据"
   ]
  },
  {
   "cell_type": "code",
   "execution_count": null,
   "id": "1dbdff59a4436c80",
   "metadata": {
    "ExecuteTime": {
     "end_time": "2025-09-28T03:35:18.163358200Z",
     "start_time": "2025-09-28T01:17:16.225579Z"
    }
   },
   "outputs": [
    {
     "data": {
      "text/html": [
       "<div>\n",
       "<style scoped>\n",
       "    .dataframe tbody tr th:only-of-type {\n",
       "        vertical-align: middle;\n",
       "    }\n",
       "\n",
       "    .dataframe tbody tr th {\n",
       "        vertical-align: top;\n",
       "    }\n",
       "\n",
       "    .dataframe thead th {\n",
       "        text-align: right;\n",
       "    }\n",
       "</style>\n",
       "<table border=\"1\" class=\"dataframe\">\n",
       "  <thead>\n",
       "    <tr style=\"text-align: right;\">\n",
       "      <th></th>\n",
       "      <th>Name</th>\n",
       "      <th>Age</th>\n",
       "      <th>Score</th>\n",
       "    </tr>\n",
       "  </thead>\n",
       "  <tbody>\n",
       "    <tr>\n",
       "      <th>1</th>\n",
       "      <td>Bob</td>\n",
       "      <td>30.0</td>\n",
       "      <td>92.0</td>\n",
       "    </tr>\n",
       "    <tr>\n",
       "      <th>4</th>\n",
       "      <td>Jack</td>\n",
       "      <td>30.0</td>\n",
       "      <td>99.0</td>\n",
       "    </tr>\n",
       "  </tbody>\n",
       "</table>\n",
       "</div>"
      ],
      "text/plain": [
       "   Name   Age  Score\n",
       "1   Bob  30.0   92.0\n",
       "4  Jack  30.0   99.0"
      ]
     },
     "execution_count": 26,
     "metadata": {},
     "output_type": "execute_result"
    }
   ],
   "source": [
    "df3[(df3['Age'] >= 30) & (df3['Score'] > 80)] #筛选年龄大于30且分数大于80的数据"
   ]
  },
  {
   "cell_type": "markdown",
   "id": "adedd415675eec2f",
   "metadata": {},
   "source": [
    "### 缺失值处理"
   ]
  },
  {
   "cell_type": "code",
   "execution_count": null,
   "id": "ac2e62e11925ed85",
   "metadata": {
    "ExecuteTime": {
     "end_time": "2025-09-28T03:35:18.164357900Z",
     "start_time": "2025-09-28T01:17:16.519407Z"
    }
   },
   "outputs": [
    {
     "data": {
      "text/html": [
       "<div>\n",
       "<style scoped>\n",
       "    .dataframe tbody tr th:only-of-type {\n",
       "        vertical-align: middle;\n",
       "    }\n",
       "\n",
       "    .dataframe tbody tr th {\n",
       "        vertical-align: top;\n",
       "    }\n",
       "\n",
       "    .dataframe thead th {\n",
       "        text-align: right;\n",
       "    }\n",
       "</style>\n",
       "<table border=\"1\" class=\"dataframe\">\n",
       "  <thead>\n",
       "    <tr style=\"text-align: right;\">\n",
       "      <th></th>\n",
       "      <th>Name</th>\n",
       "      <th>Age</th>\n",
       "      <th>Score</th>\n",
       "    </tr>\n",
       "  </thead>\n",
       "  <tbody>\n",
       "    <tr>\n",
       "      <th>0</th>\n",
       "      <td>False</td>\n",
       "      <td>False</td>\n",
       "      <td>False</td>\n",
       "    </tr>\n",
       "    <tr>\n",
       "      <th>1</th>\n",
       "      <td>False</td>\n",
       "      <td>False</td>\n",
       "      <td>False</td>\n",
       "    </tr>\n",
       "    <tr>\n",
       "      <th>2</th>\n",
       "      <td>False</td>\n",
       "      <td>False</td>\n",
       "      <td>False</td>\n",
       "    </tr>\n",
       "    <tr>\n",
       "      <th>3</th>\n",
       "      <td>False</td>\n",
       "      <td>True</td>\n",
       "      <td>True</td>\n",
       "    </tr>\n",
       "    <tr>\n",
       "      <th>4</th>\n",
       "      <td>False</td>\n",
       "      <td>False</td>\n",
       "      <td>False</td>\n",
       "    </tr>\n",
       "  </tbody>\n",
       "</table>\n",
       "</div>"
      ],
      "text/plain": [
       "    Name    Age  Score\n",
       "0  False  False  False\n",
       "1  False  False  False\n",
       "2  False  False  False\n",
       "3  False   True   True\n",
       "4  False  False  False"
      ]
     },
     "execution_count": 27,
     "metadata": {},
     "output_type": "execute_result"
    }
   ],
   "source": [
    "df3.isnull()        # 判断缺失值"
   ]
  },
  {
   "cell_type": "code",
   "execution_count": null,
   "id": "1881122ddad954b3",
   "metadata": {
    "ExecuteTime": {
     "end_time": "2025-09-28T03:35:18.165438100Z",
     "start_time": "2025-09-28T01:17:16.788654Z"
    }
   },
   "outputs": [
    {
     "data": {
      "text/html": [
       "<div>\n",
       "<style scoped>\n",
       "    .dataframe tbody tr th:only-of-type {\n",
       "        vertical-align: middle;\n",
       "    }\n",
       "\n",
       "    .dataframe tbody tr th {\n",
       "        vertical-align: top;\n",
       "    }\n",
       "\n",
       "    .dataframe thead th {\n",
       "        text-align: right;\n",
       "    }\n",
       "</style>\n",
       "<table border=\"1\" class=\"dataframe\">\n",
       "  <thead>\n",
       "    <tr style=\"text-align: right;\">\n",
       "      <th></th>\n",
       "      <th>Name</th>\n",
       "      <th>Age</th>\n",
       "      <th>Score</th>\n",
       "    </tr>\n",
       "  </thead>\n",
       "  <tbody>\n",
       "    <tr>\n",
       "      <th>0</th>\n",
       "      <td>Alice</td>\n",
       "      <td>25.0</td>\n",
       "      <td>85.5</td>\n",
       "    </tr>\n",
       "    <tr>\n",
       "      <th>1</th>\n",
       "      <td>Bob</td>\n",
       "      <td>30.0</td>\n",
       "      <td>92.0</td>\n",
       "    </tr>\n",
       "    <tr>\n",
       "      <th>2</th>\n",
       "      <td>Charlie</td>\n",
       "      <td>35.0</td>\n",
       "      <td>78.0</td>\n",
       "    </tr>\n",
       "    <tr>\n",
       "      <th>4</th>\n",
       "      <td>Jack</td>\n",
       "      <td>30.0</td>\n",
       "      <td>99.0</td>\n",
       "    </tr>\n",
       "  </tbody>\n",
       "</table>\n",
       "</div>"
      ],
      "text/plain": [
       "      Name   Age  Score\n",
       "0    Alice  25.0   85.5\n",
       "1      Bob  30.0   92.0\n",
       "2  Charlie  35.0   78.0\n",
       "4     Jack  30.0   99.0"
      ]
     },
     "execution_count": 28,
     "metadata": {},
     "output_type": "execute_result"
    }
   ],
   "source": [
    "df3.dropna()        # 删除缺失行"
   ]
  },
  {
   "cell_type": "code",
   "execution_count": null,
   "id": "51280590949ce470",
   "metadata": {
    "ExecuteTime": {
     "end_time": "2025-09-28T03:35:18.172493900Z",
     "start_time": "2025-09-28T01:17:16.934823Z"
    }
   },
   "outputs": [
    {
     "data": {
      "text/html": [
       "<div>\n",
       "<style scoped>\n",
       "    .dataframe tbody tr th:only-of-type {\n",
       "        vertical-align: middle;\n",
       "    }\n",
       "\n",
       "    .dataframe tbody tr th {\n",
       "        vertical-align: top;\n",
       "    }\n",
       "\n",
       "    .dataframe thead th {\n",
       "        text-align: right;\n",
       "    }\n",
       "</style>\n",
       "<table border=\"1\" class=\"dataframe\">\n",
       "  <thead>\n",
       "    <tr style=\"text-align: right;\">\n",
       "      <th></th>\n",
       "      <th>Name</th>\n",
       "      <th>Age</th>\n",
       "      <th>Score</th>\n",
       "    </tr>\n",
       "  </thead>\n",
       "  <tbody>\n",
       "    <tr>\n",
       "      <th>0</th>\n",
       "      <td>Alice</td>\n",
       "      <td>25.0</td>\n",
       "      <td>85.5</td>\n",
       "    </tr>\n",
       "    <tr>\n",
       "      <th>1</th>\n",
       "      <td>Bob</td>\n",
       "      <td>30.0</td>\n",
       "      <td>92.0</td>\n",
       "    </tr>\n",
       "    <tr>\n",
       "      <th>2</th>\n",
       "      <td>Charlie</td>\n",
       "      <td>35.0</td>\n",
       "      <td>78.0</td>\n",
       "    </tr>\n",
       "    <tr>\n",
       "      <th>3</th>\n",
       "      <td>Amy</td>\n",
       "      <td>0.0</td>\n",
       "      <td>0.0</td>\n",
       "    </tr>\n",
       "    <tr>\n",
       "      <th>4</th>\n",
       "      <td>Jack</td>\n",
       "      <td>30.0</td>\n",
       "      <td>99.0</td>\n",
       "    </tr>\n",
       "  </tbody>\n",
       "</table>\n",
       "</div>"
      ],
      "text/plain": [
       "      Name   Age  Score\n",
       "0    Alice  25.0   85.5\n",
       "1      Bob  30.0   92.0\n",
       "2  Charlie  35.0   78.0\n",
       "3      Amy   0.0    0.0\n",
       "4     Jack  30.0   99.0"
      ]
     },
     "execution_count": 29,
     "metadata": {},
     "output_type": "execute_result"
    }
   ],
   "source": [
    "df3.fillna(0)       # 填充缺失值(用0填充)"
   ]
  },
  {
   "cell_type": "markdown",
   "id": "8cc19499372d7de4",
   "metadata": {},
   "source": [
    "### 排序"
   ]
  },
  {
   "cell_type": "code",
   "execution_count": null,
   "id": "cd9706f4ee122679",
   "metadata": {
    "ExecuteTime": {
     "end_time": "2025-09-28T03:35:18.173494700Z",
     "start_time": "2025-09-28T01:17:17.198380Z"
    }
   },
   "outputs": [
    {
     "data": {
      "text/html": [
       "<div>\n",
       "<style scoped>\n",
       "    .dataframe tbody tr th:only-of-type {\n",
       "        vertical-align: middle;\n",
       "    }\n",
       "\n",
       "    .dataframe tbody tr th {\n",
       "        vertical-align: top;\n",
       "    }\n",
       "\n",
       "    .dataframe thead th {\n",
       "        text-align: right;\n",
       "    }\n",
       "</style>\n",
       "<table border=\"1\" class=\"dataframe\">\n",
       "  <thead>\n",
       "    <tr style=\"text-align: right;\">\n",
       "      <th></th>\n",
       "      <th>Name</th>\n",
       "      <th>Age</th>\n",
       "      <th>Score</th>\n",
       "    </tr>\n",
       "  </thead>\n",
       "  <tbody>\n",
       "    <tr>\n",
       "      <th>4</th>\n",
       "      <td>Jack</td>\n",
       "      <td>30.0</td>\n",
       "      <td>99.0</td>\n",
       "    </tr>\n",
       "    <tr>\n",
       "      <th>1</th>\n",
       "      <td>Bob</td>\n",
       "      <td>30.0</td>\n",
       "      <td>92.0</td>\n",
       "    </tr>\n",
       "    <tr>\n",
       "      <th>0</th>\n",
       "      <td>Alice</td>\n",
       "      <td>25.0</td>\n",
       "      <td>85.5</td>\n",
       "    </tr>\n",
       "    <tr>\n",
       "      <th>2</th>\n",
       "      <td>Charlie</td>\n",
       "      <td>35.0</td>\n",
       "      <td>78.0</td>\n",
       "    </tr>\n",
       "    <tr>\n",
       "      <th>3</th>\n",
       "      <td>Amy</td>\n",
       "      <td>NaN</td>\n",
       "      <td>NaN</td>\n",
       "    </tr>\n",
       "  </tbody>\n",
       "</table>\n",
       "</div>"
      ],
      "text/plain": [
       "      Name   Age  Score\n",
       "4     Jack  30.0   99.0\n",
       "1      Bob  30.0   92.0\n",
       "0    Alice  25.0   85.5\n",
       "2  Charlie  35.0   78.0\n",
       "3      Amy   NaN    NaN"
      ]
     },
     "execution_count": 30,
     "metadata": {},
     "output_type": "execute_result"
    }
   ],
   "source": [
    "df3.sort_values('Score', ascending=False)  # 按值排序"
   ]
  },
  {
   "cell_type": "code",
   "execution_count": null,
   "id": "9f07ac7261e82936",
   "metadata": {
    "ExecuteTime": {
     "end_time": "2025-09-28T03:35:18.174495400Z",
     "start_time": "2025-09-28T01:17:17.509931Z"
    }
   },
   "outputs": [
    {
     "data": {
      "text/html": [
       "<div>\n",
       "<style scoped>\n",
       "    .dataframe tbody tr th:only-of-type {\n",
       "        vertical-align: middle;\n",
       "    }\n",
       "\n",
       "    .dataframe tbody tr th {\n",
       "        vertical-align: top;\n",
       "    }\n",
       "\n",
       "    .dataframe thead th {\n",
       "        text-align: right;\n",
       "    }\n",
       "</style>\n",
       "<table border=\"1\" class=\"dataframe\">\n",
       "  <thead>\n",
       "    <tr style=\"text-align: right;\">\n",
       "      <th></th>\n",
       "      <th>Name</th>\n",
       "      <th>Age</th>\n",
       "      <th>Score</th>\n",
       "    </tr>\n",
       "  </thead>\n",
       "  <tbody>\n",
       "    <tr>\n",
       "      <th>0</th>\n",
       "      <td>Alice</td>\n",
       "      <td>25.0</td>\n",
       "      <td>85.5</td>\n",
       "    </tr>\n",
       "    <tr>\n",
       "      <th>1</th>\n",
       "      <td>Bob</td>\n",
       "      <td>30.0</td>\n",
       "      <td>92.0</td>\n",
       "    </tr>\n",
       "    <tr>\n",
       "      <th>2</th>\n",
       "      <td>Charlie</td>\n",
       "      <td>35.0</td>\n",
       "      <td>78.0</td>\n",
       "    </tr>\n",
       "    <tr>\n",
       "      <th>3</th>\n",
       "      <td>Amy</td>\n",
       "      <td>NaN</td>\n",
       "      <td>NaN</td>\n",
       "    </tr>\n",
       "    <tr>\n",
       "      <th>4</th>\n",
       "      <td>Jack</td>\n",
       "      <td>30.0</td>\n",
       "      <td>99.0</td>\n",
       "    </tr>\n",
       "  </tbody>\n",
       "</table>\n",
       "</div>"
      ],
      "text/plain": [
       "      Name   Age  Score\n",
       "0    Alice  25.0   85.5\n",
       "1      Bob  30.0   92.0\n",
       "2  Charlie  35.0   78.0\n",
       "3      Amy   NaN    NaN\n",
       "4     Jack  30.0   99.0"
      ]
     },
     "execution_count": 31,
     "metadata": {},
     "output_type": "execute_result"
    }
   ],
   "source": [
    "df3.sort_index()                           # 按行索引排序"
   ]
  },
  {
   "cell_type": "markdown",
   "id": "8795d66a4b91fa5a",
   "metadata": {},
   "source": [
    "### 分组聚合"
   ]
  },
  {
   "cell_type": "markdown",
   "id": "d1653a1f74ca347",
   "metadata": {},
   "source": [
    "先按Age分组(即age相同的聚为一类)，然后选择了 Score 这一列，再去计算均值"
   ]
  },
  {
   "cell_type": "code",
   "execution_count": null,
   "id": "7a064a0c4a30f774",
   "metadata": {
    "ExecuteTime": {
     "end_time": "2025-09-28T03:35:18.176551800Z",
     "start_time": "2025-09-28T01:17:17.711636Z"
    }
   },
   "outputs": [
    {
     "data": {
      "text/plain": [
       "Age\n",
       "25.0    85.5\n",
       "30.0    95.5\n",
       "35.0    78.0\n",
       "Name: Score, dtype: float64"
      ]
     },
     "execution_count": 32,
     "metadata": {},
     "output_type": "execute_result"
    }
   ],
   "source": [
    "df3.groupby('Age')['Score'].mean()"
   ]
  },
  {
   "cell_type": "code",
   "execution_count": null,
   "id": "b8947e25ce2d4c51",
   "metadata": {
    "ExecuteTime": {
     "end_time": "2025-09-28T03:35:18.176551800Z",
     "start_time": "2025-09-28T01:17:17.906691Z"
    }
   },
   "outputs": [
    {
     "data": {
      "text/html": [
       "<div>\n",
       "<style scoped>\n",
       "    .dataframe tbody tr th:only-of-type {\n",
       "        vertical-align: middle;\n",
       "    }\n",
       "\n",
       "    .dataframe tbody tr th {\n",
       "        vertical-align: top;\n",
       "    }\n",
       "\n",
       "    .dataframe thead th {\n",
       "        text-align: right;\n",
       "    }\n",
       "</style>\n",
       "<table border=\"1\" class=\"dataframe\">\n",
       "  <thead>\n",
       "    <tr style=\"text-align: right;\">\n",
       "      <th></th>\n",
       "      <th>Score</th>\n",
       "    </tr>\n",
       "    <tr>\n",
       "      <th>Age</th>\n",
       "      <th></th>\n",
       "    </tr>\n",
       "  </thead>\n",
       "  <tbody>\n",
       "    <tr>\n",
       "      <th>25.0</th>\n",
       "      <td>85.5</td>\n",
       "    </tr>\n",
       "    <tr>\n",
       "      <th>30.0</th>\n",
       "      <td>95.5</td>\n",
       "    </tr>\n",
       "    <tr>\n",
       "      <th>35.0</th>\n",
       "      <td>78.0</td>\n",
       "    </tr>\n",
       "  </tbody>\n",
       "</table>\n",
       "</div>"
      ],
      "text/plain": [
       "      Score\n",
       "Age        \n",
       "25.0   85.5\n",
       "30.0   95.5\n",
       "35.0   78.0"
      ]
     },
     "execution_count": 33,
     "metadata": {},
     "output_type": "execute_result"
    }
   ],
   "source": [
    "df3.groupby('Age').agg({'Score':'mean'})"
   ]
  },
  {
   "cell_type": "markdown",
   "id": "b2463d090269e8e6",
   "metadata": {},
   "source": [
    "虽然两个聚合结果是一样的，但其实内在的逻辑是不同的。第一种方法只能对**单列**进行聚合，返回的是**Series**；而第二种方法可以进行多列、多函数的聚合，返回的是**DataFrame**。"
   ]
  },
  {
   "cell_type": "markdown",
   "id": "3ff34c795d3d1ca5",
   "metadata": {},
   "source": [
    "### 添加和删除列"
   ]
  },
  {
   "cell_type": "code",
   "execution_count": null,
   "id": "f07c9d963dd91e80",
   "metadata": {
    "ExecuteTime": {
     "end_time": "2025-09-28T03:35:18.177552Z",
     "start_time": "2025-09-28T01:17:18.017862Z"
    }
   },
   "outputs": [
    {
     "data": {
      "text/html": [
       "<div>\n",
       "<style scoped>\n",
       "    .dataframe tbody tr th:only-of-type {\n",
       "        vertical-align: middle;\n",
       "    }\n",
       "\n",
       "    .dataframe tbody tr th {\n",
       "        vertical-align: top;\n",
       "    }\n",
       "\n",
       "    .dataframe thead th {\n",
       "        text-align: right;\n",
       "    }\n",
       "</style>\n",
       "<table border=\"1\" class=\"dataframe\">\n",
       "  <thead>\n",
       "    <tr style=\"text-align: right;\">\n",
       "      <th></th>\n",
       "      <th>Name</th>\n",
       "      <th>Age</th>\n",
       "      <th>Score</th>\n",
       "      <th>Passed</th>\n",
       "    </tr>\n",
       "  </thead>\n",
       "  <tbody>\n",
       "    <tr>\n",
       "      <th>0</th>\n",
       "      <td>Alice</td>\n",
       "      <td>25.0</td>\n",
       "      <td>85.5</td>\n",
       "      <td>True</td>\n",
       "    </tr>\n",
       "    <tr>\n",
       "      <th>1</th>\n",
       "      <td>Bob</td>\n",
       "      <td>30.0</td>\n",
       "      <td>92.0</td>\n",
       "      <td>True</td>\n",
       "    </tr>\n",
       "    <tr>\n",
       "      <th>2</th>\n",
       "      <td>Charlie</td>\n",
       "      <td>35.0</td>\n",
       "      <td>78.0</td>\n",
       "      <td>False</td>\n",
       "    </tr>\n",
       "    <tr>\n",
       "      <th>3</th>\n",
       "      <td>Amy</td>\n",
       "      <td>NaN</td>\n",
       "      <td>NaN</td>\n",
       "      <td>False</td>\n",
       "    </tr>\n",
       "    <tr>\n",
       "      <th>4</th>\n",
       "      <td>Jack</td>\n",
       "      <td>30.0</td>\n",
       "      <td>99.0</td>\n",
       "      <td>True</td>\n",
       "    </tr>\n",
       "  </tbody>\n",
       "</table>\n",
       "</div>"
      ],
      "text/plain": [
       "      Name   Age  Score  Passed\n",
       "0    Alice  25.0   85.5    True\n",
       "1      Bob  30.0   92.0    True\n",
       "2  Charlie  35.0   78.0   False\n",
       "3      Amy   NaN    NaN   False\n",
       "4     Jack  30.0   99.0    True"
      ]
     },
     "execution_count": 34,
     "metadata": {},
     "output_type": "execute_result"
    }
   ],
   "source": [
    "df3['Passed'] = df3['Score'] > 85   # 新增列\n",
    "df3"
   ]
  },
  {
   "cell_type": "code",
   "execution_count": null,
   "id": "86d96641116e4b3e",
   "metadata": {
    "ExecuteTime": {
     "end_time": "2025-09-28T03:35:18.177552Z",
     "start_time": "2025-09-28T01:17:18.466959Z"
    }
   },
   "outputs": [
    {
     "data": {
      "text/html": [
       "<div>\n",
       "<style scoped>\n",
       "    .dataframe tbody tr th:only-of-type {\n",
       "        vertical-align: middle;\n",
       "    }\n",
       "\n",
       "    .dataframe tbody tr th {\n",
       "        vertical-align: top;\n",
       "    }\n",
       "\n",
       "    .dataframe thead th {\n",
       "        text-align: right;\n",
       "    }\n",
       "</style>\n",
       "<table border=\"1\" class=\"dataframe\">\n",
       "  <thead>\n",
       "    <tr style=\"text-align: right;\">\n",
       "      <th></th>\n",
       "      <th>Name</th>\n",
       "      <th>Age</th>\n",
       "      <th>Score</th>\n",
       "    </tr>\n",
       "  </thead>\n",
       "  <tbody>\n",
       "    <tr>\n",
       "      <th>0</th>\n",
       "      <td>Alice</td>\n",
       "      <td>25.0</td>\n",
       "      <td>85.5</td>\n",
       "    </tr>\n",
       "    <tr>\n",
       "      <th>1</th>\n",
       "      <td>Bob</td>\n",
       "      <td>30.0</td>\n",
       "      <td>92.0</td>\n",
       "    </tr>\n",
       "    <tr>\n",
       "      <th>2</th>\n",
       "      <td>Charlie</td>\n",
       "      <td>35.0</td>\n",
       "      <td>78.0</td>\n",
       "    </tr>\n",
       "    <tr>\n",
       "      <th>3</th>\n",
       "      <td>Amy</td>\n",
       "      <td>NaN</td>\n",
       "      <td>NaN</td>\n",
       "    </tr>\n",
       "    <tr>\n",
       "      <th>4</th>\n",
       "      <td>Jack</td>\n",
       "      <td>30.0</td>\n",
       "      <td>99.0</td>\n",
       "    </tr>\n",
       "  </tbody>\n",
       "</table>\n",
       "</div>"
      ],
      "text/plain": [
       "      Name   Age  Score\n",
       "0    Alice  25.0   85.5\n",
       "1      Bob  30.0   92.0\n",
       "2  Charlie  35.0   78.0\n",
       "3      Amy   NaN    NaN\n",
       "4     Jack  30.0   99.0"
      ]
     },
     "execution_count": 35,
     "metadata": {},
     "output_type": "execute_result"
    }
   ],
   "source": [
    "df3.drop('Passed', axis=1, inplace=True)  # 删除列\n",
    "df3"
   ]
  },
  {
   "cell_type": "markdown",
   "id": "578ee0c34ced8eed",
   "metadata": {},
   "source": [
    "## DataFrame的常用方法"
   ]
  },
  {
   "cell_type": "markdown",
   "id": "be638b00f3861171",
   "metadata": {},
   "source": [
    "| 方法名称           | 功能描述 | 示例代码 |\n",
    "|------------------|----------|----------|\n",
    "| `head(n)`         | 返回 DataFrame 的前 n 行数据（默认前 5 行） | `df.head(3)` |\n",
    "| `tail(n)`         | 返回 DataFrame 的后 n 行数据（默认后 5 行） | `df.tail(2)` |\n",
    "| `info()`          | 显示 DataFrame 的简要信息，包括列名、数据类型、非空值数量等 | `df.info()` |\n",
    "| `describe()`      | 返回 DataFrame 数值列的统计信息，如均值、标准差、最小值等 | `df.describe()` |\n",
    "| `shape`           | 返回 DataFrame 的行数和列数（行数, 列数） | `df.shape` |\n",
    "| `columns`         | 返回 DataFrame 的所有列名 | `df.columns` |\n",
    "| `index`           | 返回 DataFrame 的行索引 | `df.index` |\n",
    "| `dtypes`          | 返回每一列的数据类型 | `df.dtypes` |\n",
    "| `sort_values(by)` | 按指定列排序 | `df.sort_values('Score')` |\n",
    "| `sort_index()`    | 按行索引排序 | `df.sort_index()` |\n",
    "| `dropna()`        | 删除含有缺失值（NaN）的行或列 | `df.dropna()` |\n",
    "| `fillna(value)`   | 用指定的值填充缺失值 | `df.fillna(0)` |\n",
    "| `isnull()`        | 判断缺失值，返回布尔值 DataFrame | `df.isnull()` |\n",
    "| `notnull()`       | 判断非缺失值，返回布尔值 DataFrame | `df.notnull()` |\n",
    "| `loc[]`           | 按标签索引选择数据 | `df.loc[0:2, ['Name','Score']]` |\n",
    "| `iloc[]`          | 按位置索引选择数据 | `df.iloc[0:2, 0:2]` |\n",
    "| `at[]`            | 访问单个元素（比 loc[] 更高效） | `df.at[0,'Name']` |\n",
    "| `iat[]`           | 访问单个元素（比 iloc[] 更高效） | `df.iat[0,1]` |\n",
    "| `apply(func)`     | 对 DataFrame 或 Series 应用函数 | `df['Score'].apply(lambda x: x+5)` |\n",
    "| `applymap(func)`  | 对 DataFrame 每个元素应用函数 | `df.applymap(lambda x: x*2 if isinstance(x,int) else x)` |\n",
    "| `groupby(by)`     | 分组操作，按列汇总统计 | `df.groupby('Age')['Score'].mean()` |\n",
    "| `pivot_table()`   | 创建透视表 | `df.pivot_table(index='Age', values='Score', aggfunc='mean')` |\n",
    "| `merge()`         | 合并多个 DataFrame（SQL JOIN） | `pd.merge(df1, df2, on='ID')` |\n",
    "| `concat()`        | 按行或列连接多个 DataFrame | `pd.concat([df1, df2], axis=0)` |\n",
    "| `to_csv()`        | 导出 CSV 文件 | `df.to_csv('output.csv', index=False)` |\n",
    "| `to_excel()`      | 导出 Excel 文件 | `df.to_excel('output.xlsx', index=False)` |\n",
    "| `to_json()`       | 导出 JSON 格式 | `df.to_json('output.json')` |\n",
    "| `to_sql()`        | 导出到 SQL 数据库 | `df.to_sql('table_name', con=conn, if_exists='replace')` |\n",
    "| `query()`         | SQL 风格查询 | `df.query('Score > 80')` |\n",
    "| `duplicated()`    | 返回布尔值 DataFrame，指示每行是否重复 | `df.duplicated()` |\n",
    "| `drop_duplicates()` | 删除重复行 | `df.drop_duplicates()` |\n",
    "| `set_index()`     | 设置 DataFrame 的索引 | `df.set_index('Name', inplace=True)` |\n",
    "| `reset_index()`   | 重置索引 | `df.reset_index(drop=True, inplace=True)` |\n",
    "| `transpose()`     | 转置 DataFrame（行列交换） | `df.transpose()` |\n"
   ]
  },
  {
   "cell_type": "markdown",
   "id": "69c47f6dc2c9f3e",
   "metadata": {},
   "source": [
    "以上方法可以自行尝试，此处不多加赘述"
   ]
  },
  {
   "cell_type": "markdown",
   "id": "7ed28b8a7ac3ca97",
   "metadata": {},
   "source": [
    "## 从文件中读取数据"
   ]
  },
  {
   "cell_type": "markdown",
   "id": "3aed582e904a4514",
   "metadata": {},
   "source": [
    "在数据分析的工作中，我们经常需要把外部文件的数据加载到 `pandas` 中进行处理。无论是最常见的 **CSV 文件**，还是日常办公中大量使用的 **Excel 文件**，又或者是 Web 开发和接口数据中常见的 **JSON 格式**，`pandas` 都提供了便捷的读取方法。下面我们就分别介绍如何使用函数将这些文件加载为`DataFrame`，便于后续的数据清洗和分析。"
   ]
  },
  {
   "cell_type": "markdown",
   "id": "c42f2bd16be5804a",
   "metadata": {},
   "source": [
    "### Pandas读取CSV文件"
   ]
  },
  {
   "cell_type": "markdown",
   "id": "99ac52740f5e2c3b",
   "metadata": {},
   "source": [
    "**CSV**文件（逗号分隔值文件）是一种简单的纯文本文件格式，用于存储表格数据，其特点是使用逗号作为字段分隔符，每行表示一条记录。Pandas可以很方便的处理csv文件，常见的方法有```pd.read_csv()```和```DataFrame.to_csv()```两种方法来读取/写入CSV文档。"
   ]
  },
  {
   "cell_type": "code",
   "execution_count": null,
   "id": "bac14b17b4bb5f99",
   "metadata": {
    "ExecuteTime": {
     "end_time": "2025-09-28T03:35:18.178550900Z",
     "start_time": "2025-09-28T01:17:18.734251Z"
    }
   },
   "outputs": [
    {
     "name": "stdout",
     "output_type": "stream",
     "text": [
      "            Name            Team  Number Position   Age Height  Weight  \\\n",
      "0  Avery Bradley  Boston Celtics     0.0       PG  25.0    6-2   180.0   \n",
      "1    Jae Crowder  Boston Celtics    99.0       SF  25.0    6-6   235.0   \n",
      "2   John Holland  Boston Celtics    30.0       SG  27.0    6-5   205.0   \n",
      "3    R.J. Hunter  Boston Celtics    28.0       SG  22.0    6-5   185.0   \n",
      "4  Jonas Jerebko  Boston Celtics     8.0       PF  29.0   6-10   231.0   \n",
      "\n",
      "             College     Salary  \n",
      "0              Texas  7730337.0  \n",
      "1          Marquette  6796117.0  \n",
      "2  Boston University        NaN  \n",
      "3      Georgia State  1148640.0  \n",
      "4                NaN  5000000.0  \n"
     ]
    }
   ],
   "source": [
    "import pandas as pd\n",
    "\n",
    "# 读取 CSV 文件\n",
    "df4 = pd.read_csv(\"assets/nba.csv\")\n",
    "\n",
    "print(df4.head())\n"
   ]
  },
  {
   "cell_type": "markdown",
   "id": "5abad5a5b4799efc",
   "metadata": {},
   "source": [
    "当然，也可以选择只读取部分的文件，常见参数有：\n",
    "\n",
    "* `sep`：分隔符（默认`,`，可改为`\\t`、`;`等）\n",
    "* `encoding`：文件编码（常见 `'utf-8'`, `'gbk'`）\n",
    "* `header`：指定哪一行作为列名，默认第 0 行\n",
    "* `names`：自定义列名\n",
    "* `usecols`：选择部分列读取\n",
    "* `nrows`：仅读取前几行"
   ]
  },
  {
   "cell_type": "code",
   "execution_count": null,
   "id": "334313cd02f6ee82",
   "metadata": {
    "ExecuteTime": {
     "end_time": "2025-09-28T03:35:18.178550900Z",
     "start_time": "2025-09-28T01:17:18.928033Z"
    }
   },
   "outputs": [
    {
     "name": "stdout",
     "output_type": "stream",
     "text": [
      "            Name   Age\n",
      "0  Avery Bradley  25.0\n",
      "1    Jae Crowder  25.0\n",
      "2   John Holland  27.0\n",
      "3    R.J. Hunter  22.0\n",
      "4  Jonas Jerebko  29.0\n"
     ]
    }
   ],
   "source": [
    "# 使用不同参数读取\n",
    "df5 = pd.read_csv(\"assets/nba.csv\", encoding=\"utf-8\", usecols=[\"Name\", \"Age\"], nrows=5)\n",
    "print(df5.head())\n"
   ]
  },
  {
   "cell_type": "markdown",
   "id": "7ca5d3e83affb27",
   "metadata": {},
   "source": [
    "## Pandas读取Excel文件"
   ]
  },
  {
   "cell_type": "markdown",
   "id": "180d096230db336c",
   "metadata": {},
   "source": [
    "Pandas 提供了丰富的 Excel 文件操作功能，帮助我们方便地读取和写入 .xls 和 .xlsx 文件，支持多表单、索引、列选择等复杂操作，是数据分析中必备的工具。\n",
    "\n",
    "⚠️ 注意：读取 Excel 需要依赖库（如 `openpyxl` 或 `xlrd`），没安装的话要先安装：\n",
    "\n",
    "```bash\n",
    "pip install openpyxl\n",
    "```"
   ]
  },
  {
   "cell_type": "code",
   "execution_count": null,
   "id": "4ccbecb72fc8c9d1",
   "metadata": {},
   "outputs": [],
   "source": [
    "import pandas as pd\n",
    "\n",
    "df6 = pd.read_excel('assets/data.xlsx')\n",
    "\n",
    "print(df6)"
   ]
  },
  {
   "cell_type": "markdown",
   "id": "770d89141428fc41",
   "metadata": {},
   "source": [
    "同样，读取Excel文件也可以自行选择参数。常用参数有：\n",
    "\n",
    "* `sheet_name`：指定工作表，默认第一个，可以用名字或索引\n",
    "* `usecols`：选择部分列\n",
    "* `skiprows`：跳过前几行\n",
    "* `nrows`：读取前几行"
   ]
  },
  {
   "cell_type": "markdown",
   "id": "fb596c504610e654",
   "metadata": {},
   "source": [
    "## Pandas读取Json文件"
   ]
  },
  {
   "cell_type": "markdown",
   "id": "7129d09b62493d8c",
   "metadata": {},
   "source": [
    "JSON(JavaScript Object Notation) 是一种轻量级的数据交换格式。 易于人阅读和编写。同时也易于机器解析和生成。 它基于JavaScript Programming Language, Standard ECMA-262 3rd Edition - December 1999的一个子集。 JSON采用完全独立于语言的文本格式，但是也使用了类似于C语言家族的习惯（包括C, C++, C#, Java, JavaScript, Perl, Python等）。 这些特性使JSON成为理想的数据交换语言。"
   ]
  },
  {
   "cell_type": "code",
   "execution_count": null,
   "id": "c787e1ce5d24738",
   "metadata": {
    "ExecuteTime": {
     "end_time": "2025-09-28T03:35:18.179551600Z",
     "start_time": "2025-09-28T01:17:19.030384Z"
    }
   },
   "outputs": [
    {
     "name": "stdout",
     "output_type": "stream",
     "text": [
      "     id  likes    name             url\n",
      "0  A001     61      百度   www.baidu.com\n",
      "1  A002    124  Google  www.google.com\n",
      "2  A003     45      淘宝  www.taobao.com\n"
     ]
    }
   ],
   "source": [
    "import json\n",
    "import pandas as pd\n",
    "\n",
    "with open(\"assets/website.json\", \"r\", encoding=\"utf-8\") as f:\n",
    "    data4 = json.load(f)  # data 是一个 list of dicts\n",
    "\n",
    "df7 = pd.DataFrame(data4)  # pandas 可以直接把 list of dicts 转为 DataFrame\n",
    "print(df7)\n"
   ]
  },
  {
   "cell_type": "markdown",
   "id": "5e8bb5cb835fc80e",
   "metadata": {},
   "source": [
    "## 利用Pandas进行数据清洗"
   ]
  },
  {
   "cell_type": "markdown",
   "id": "9f18df2cf382b7d8",
   "metadata": {},
   "source": [
    "在真实的使用场景中，数据常常是**不干净**的，往往存在缺失值、重复值、异常值，或者一些特殊的情况，这些dirty的数据都会对后续的数据分析等环节造成比较大的影响。所以**数据清洗**是分析前必不可少的一步，而Pandas提供了丰富的方法帮助我们快速处理这些问题。"
   ]
  },
  {
   "cell_type": "markdown",
   "id": "f9b367eaf6c2e92a",
   "metadata": {},
   "source": [
    "### 查看数据概况"
   ]
  },
  {
   "cell_type": "code",
   "execution_count": null,
   "id": "d2497da7a7da187",
   "metadata": {
    "ExecuteTime": {
     "end_time": "2025-09-28T03:35:18.179551600Z",
     "start_time": "2025-09-28T01:17:19.054384Z"
    }
   },
   "outputs": [
    {
     "name": "stdout",
     "output_type": "stream",
     "text": [
      "\n",
      " 查看前几行数据\n",
      "           PID  ST_NUM    ST_NAME OWN_OCCUPIED NUM_BEDROOMS NUM_BATH SQ_FT\n",
      "0  100001000.0   104.0     PUTNAM            Y            3        1  1000\n",
      "1  100002000.0   197.0  LEXINGTON            N            3      1.5    --\n",
      "2  100003000.0     NaN  LEXINGTON            N          NaN        1   850\n",
      "3  100004000.0   201.0   BERKELEY           12            1      NaN   700\n",
      "4          NaN   203.0   BERKELEY            Y            3        2  1600\n",
      "\n",
      " 查看基本信息：列名、数据类型、非空数量\n",
      "<class 'pandas.core.frame.DataFrame'>\n",
      "RangeIndex: 10 entries, 0 to 9\n",
      "Data columns (total 7 columns):\n",
      "PID             9 non-null float64\n",
      "ST_NUM          7 non-null float64\n",
      "ST_NAME         10 non-null object\n",
      "OWN_OCCUPIED    9 non-null object\n",
      "NUM_BEDROOMS    7 non-null object\n",
      "NUM_BATH        9 non-null object\n",
      "SQ_FT           9 non-null object\n",
      "dtypes: float64(2), object(5)\n",
      "memory usage: 640.0+ bytes\n",
      "None\n",
      "\n",
      " 查看数值列的统计信息\n",
      "                PID      ST_NUM\n",
      "count  9.000000e+00    7.000000\n",
      "mean   1.000048e+08  191.428571\n",
      "std    2.818589e+03   39.080503\n",
      "min    1.000010e+08  104.000000\n",
      "25%    1.000030e+08  199.000000\n",
      "50%    1.000040e+08  203.000000\n",
      "75%    1.000070e+08  210.000000\n",
      "max    1.000090e+08  215.000000\n"
     ]
    }
   ],
   "source": [
    "import pandas as pd\n",
    "\n",
    "df8 = pd.read_csv(\"assets/process-data.csv\")\n",
    "\n",
    "print(\"\\n 查看前几行数据\")\n",
    "print(df8.head())\n",
    "\n",
    "print(\"\\n 查看基本信息：列名、数据类型、非空数量\")\n",
    "print(df8.info())\n",
    "\n",
    "print(\"\\n 查看数值列的统计信息\")\n",
    "print(df8.describe())\n"
   ]
  },
  {
   "cell_type": "markdown",
   "id": "a681c3aeaf7631c2",
   "metadata": {},
   "source": [
    "### 处理缺失值"
   ]
  },
  {
   "cell_type": "markdown",
   "id": "ebfdb07c4319a40b",
   "metadata": {},
   "source": [
    "判断缺失值"
   ]
  },
  {
   "cell_type": "code",
   "execution_count": null,
   "id": "bd97b00d190f5220",
   "metadata": {
    "ExecuteTime": {
     "end_time": "2025-09-28T03:35:18.179551600Z",
     "start_time": "2025-09-28T01:17:19.086391Z"
    }
   },
   "outputs": [
    {
     "name": "stdout",
     "output_type": "stream",
     "text": [
      "     PID  ST_NUM  ST_NAME  OWN_OCCUPIED  NUM_BEDROOMS  NUM_BATH  SQ_FT\n",
      "0  False   False    False         False         False     False  False\n",
      "1  False   False    False         False         False     False  False\n",
      "2  False    True    False         False          True     False  False\n",
      "3  False   False    False         False         False      True  False\n",
      "4   True   False    False         False         False     False  False\n",
      "5  False   False    False         False          True     False  False\n",
      "6  False    True    False          True         False     False  False\n",
      "7  False   False    False         False         False     False   True\n",
      "8  False   False    False         False         False     False  False\n",
      "9  False    True    False         False          True     False  False\n",
      "     PID  ST_NUM  ST_NAME  OWN_OCCUPIED  NUM_BEDROOMS  NUM_BATH  SQ_FT\n",
      "0   True    True     True          True          True      True   True\n",
      "1   True    True     True          True          True      True   True\n",
      "2   True   False     True          True         False      True   True\n",
      "3   True    True     True          True          True     False   True\n",
      "4  False    True     True          True          True      True   True\n",
      "5   True    True     True          True         False      True   True\n",
      "6   True   False     True         False          True      True   True\n",
      "7   True    True     True          True          True      True  False\n",
      "8   True    True     True          True          True      True   True\n",
      "9   True   False     True          True         False      True   True\n"
     ]
    }
   ],
   "source": [
    "print(df8.isnull())      # 每个元素是否为 NaN\n",
    "print(df8.notnull())     # 每个元素是否不是 NaN"
   ]
  },
  {
   "cell_type": "markdown",
   "id": "522c080ebcc056b2",
   "metadata": {},
   "source": [
    "一般情况下，对缺失值的处理分为**删除**和**填充**两种。删除比较简单，只需要通过"
   ]
  },
  {
   "cell_type": "code",
   "execution_count": null,
   "id": "80637c4c1c2212ad",
   "metadata": {
    "ExecuteTime": {
     "end_time": "2025-09-28T03:35:18.180648300Z",
     "start_time": "2025-09-28T01:17:19.140903Z"
    }
   },
   "outputs": [
    {
     "data": {
      "text/html": [
       "<div>\n",
       "<style scoped>\n",
       "    .dataframe tbody tr th:only-of-type {\n",
       "        vertical-align: middle;\n",
       "    }\n",
       "\n",
       "    .dataframe tbody tr th {\n",
       "        vertical-align: top;\n",
       "    }\n",
       "\n",
       "    .dataframe thead th {\n",
       "        text-align: right;\n",
       "    }\n",
       "</style>\n",
       "<table border=\"1\" class=\"dataframe\">\n",
       "  <thead>\n",
       "    <tr style=\"text-align: right;\">\n",
       "      <th></th>\n",
       "      <th>PID</th>\n",
       "      <th>ST_NUM</th>\n",
       "      <th>ST_NAME</th>\n",
       "      <th>OWN_OCCUPIED</th>\n",
       "      <th>NUM_BEDROOMS</th>\n",
       "      <th>NUM_BATH</th>\n",
       "      <th>SQ_FT</th>\n",
       "    </tr>\n",
       "  </thead>\n",
       "  <tbody>\n",
       "    <tr>\n",
       "      <th>0</th>\n",
       "      <td>100001000.0</td>\n",
       "      <td>104.0</td>\n",
       "      <td>PUTNAM</td>\n",
       "      <td>Y</td>\n",
       "      <td>3</td>\n",
       "      <td>1</td>\n",
       "      <td>1000</td>\n",
       "    </tr>\n",
       "    <tr>\n",
       "      <th>1</th>\n",
       "      <td>100002000.0</td>\n",
       "      <td>197.0</td>\n",
       "      <td>LEXINGTON</td>\n",
       "      <td>N</td>\n",
       "      <td>3</td>\n",
       "      <td>1.5</td>\n",
       "      <td>--</td>\n",
       "    </tr>\n",
       "    <tr>\n",
       "      <th>8</th>\n",
       "      <td>100009000.0</td>\n",
       "      <td>215.0</td>\n",
       "      <td>TREMONT</td>\n",
       "      <td>Y</td>\n",
       "      <td>na</td>\n",
       "      <td>2</td>\n",
       "      <td>1800</td>\n",
       "    </tr>\n",
       "  </tbody>\n",
       "</table>\n",
       "</div>"
      ],
      "text/plain": [
       "           PID  ST_NUM    ST_NAME OWN_OCCUPIED NUM_BEDROOMS NUM_BATH SQ_FT\n",
       "0  100001000.0   104.0     PUTNAM            Y            3        1  1000\n",
       "1  100002000.0   197.0  LEXINGTON            N            3      1.5    --\n",
       "8  100009000.0   215.0    TREMONT            Y           na        2  1800"
      ]
     },
     "execution_count": 42,
     "metadata": {},
     "output_type": "execute_result"
    }
   ],
   "source": [
    "df_drop = df8.dropna()   # 删除含有 NaN 的行\n",
    "\n",
    "df_drop"
   ]
  },
  {
   "cell_type": "markdown",
   "id": "a59827ca2519fabf",
   "metadata": {},
   "source": [
    "就可以删除缺失值，填充缺失值的选项比较多，可以选择用0填充，也可以选择用列平均值填充，也可以针对特定列用特定值填充等等"
   ]
  },
  {
   "cell_type": "code",
   "execution_count": null,
   "id": "3d3ce72fff975dd5",
   "metadata": {
    "ExecuteTime": {
     "end_time": "2025-09-28T03:35:18.181647600Z",
     "start_time": "2025-09-28T01:17:19.211420Z"
    }
   },
   "outputs": [
    {
     "data": {
      "text/html": [
       "<div>\n",
       "<style scoped>\n",
       "    .dataframe tbody tr th:only-of-type {\n",
       "        vertical-align: middle;\n",
       "    }\n",
       "\n",
       "    .dataframe tbody tr th {\n",
       "        vertical-align: top;\n",
       "    }\n",
       "\n",
       "    .dataframe thead th {\n",
       "        text-align: right;\n",
       "    }\n",
       "</style>\n",
       "<table border=\"1\" class=\"dataframe\">\n",
       "  <thead>\n",
       "    <tr style=\"text-align: right;\">\n",
       "      <th></th>\n",
       "      <th>PID</th>\n",
       "      <th>ST_NUM</th>\n",
       "      <th>ST_NAME</th>\n",
       "      <th>OWN_OCCUPIED</th>\n",
       "      <th>NUM_BEDROOMS</th>\n",
       "      <th>NUM_BATH</th>\n",
       "      <th>SQ_FT</th>\n",
       "    </tr>\n",
       "  </thead>\n",
       "  <tbody>\n",
       "    <tr>\n",
       "      <th>0</th>\n",
       "      <td>100001000.0</td>\n",
       "      <td>104.0</td>\n",
       "      <td>PUTNAM</td>\n",
       "      <td>Y</td>\n",
       "      <td>3</td>\n",
       "      <td>1</td>\n",
       "      <td>1000</td>\n",
       "    </tr>\n",
       "    <tr>\n",
       "      <th>1</th>\n",
       "      <td>100002000.0</td>\n",
       "      <td>197.0</td>\n",
       "      <td>LEXINGTON</td>\n",
       "      <td>N</td>\n",
       "      <td>3</td>\n",
       "      <td>1.5</td>\n",
       "      <td>--</td>\n",
       "    </tr>\n",
       "    <tr>\n",
       "      <th>2</th>\n",
       "      <td>100003000.0</td>\n",
       "      <td>0.0</td>\n",
       "      <td>LEXINGTON</td>\n",
       "      <td>N</td>\n",
       "      <td>0</td>\n",
       "      <td>1</td>\n",
       "      <td>850</td>\n",
       "    </tr>\n",
       "    <tr>\n",
       "      <th>3</th>\n",
       "      <td>100004000.0</td>\n",
       "      <td>201.0</td>\n",
       "      <td>BERKELEY</td>\n",
       "      <td>12</td>\n",
       "      <td>1</td>\n",
       "      <td>0</td>\n",
       "      <td>700</td>\n",
       "    </tr>\n",
       "    <tr>\n",
       "      <th>4</th>\n",
       "      <td>0.0</td>\n",
       "      <td>203.0</td>\n",
       "      <td>BERKELEY</td>\n",
       "      <td>Y</td>\n",
       "      <td>3</td>\n",
       "      <td>2</td>\n",
       "      <td>1600</td>\n",
       "    </tr>\n",
       "    <tr>\n",
       "      <th>5</th>\n",
       "      <td>100006000.0</td>\n",
       "      <td>207.0</td>\n",
       "      <td>BERKELEY</td>\n",
       "      <td>Y</td>\n",
       "      <td>0</td>\n",
       "      <td>1</td>\n",
       "      <td>800</td>\n",
       "    </tr>\n",
       "    <tr>\n",
       "      <th>6</th>\n",
       "      <td>100007000.0</td>\n",
       "      <td>0.0</td>\n",
       "      <td>WASHINGTON</td>\n",
       "      <td>0</td>\n",
       "      <td>2</td>\n",
       "      <td>HURLEY</td>\n",
       "      <td>950</td>\n",
       "    </tr>\n",
       "    <tr>\n",
       "      <th>7</th>\n",
       "      <td>100008000.0</td>\n",
       "      <td>213.0</td>\n",
       "      <td>TREMONT</td>\n",
       "      <td>Y</td>\n",
       "      <td>1</td>\n",
       "      <td>1</td>\n",
       "      <td>0</td>\n",
       "    </tr>\n",
       "    <tr>\n",
       "      <th>8</th>\n",
       "      <td>100009000.0</td>\n",
       "      <td>215.0</td>\n",
       "      <td>TREMONT</td>\n",
       "      <td>Y</td>\n",
       "      <td>na</td>\n",
       "      <td>2</td>\n",
       "      <td>1800</td>\n",
       "    </tr>\n",
       "    <tr>\n",
       "      <th>9</th>\n",
       "      <td>100003000.0</td>\n",
       "      <td>0.0</td>\n",
       "      <td>LEXINGTON</td>\n",
       "      <td>N</td>\n",
       "      <td>0</td>\n",
       "      <td>1</td>\n",
       "      <td>850</td>\n",
       "    </tr>\n",
       "  </tbody>\n",
       "</table>\n",
       "</div>"
      ],
      "text/plain": [
       "           PID  ST_NUM     ST_NAME OWN_OCCUPIED NUM_BEDROOMS NUM_BATH SQ_FT\n",
       "0  100001000.0   104.0      PUTNAM            Y            3        1  1000\n",
       "1  100002000.0   197.0   LEXINGTON            N            3      1.5    --\n",
       "2  100003000.0     0.0   LEXINGTON            N            0        1   850\n",
       "3  100004000.0   201.0    BERKELEY           12            1        0   700\n",
       "4          0.0   203.0    BERKELEY            Y            3        2  1600\n",
       "5  100006000.0   207.0    BERKELEY            Y            0        1   800\n",
       "6  100007000.0     0.0  WASHINGTON            0            2   HURLEY   950\n",
       "7  100008000.0   213.0     TREMONT            Y            1        1     0\n",
       "8  100009000.0   215.0     TREMONT            Y           na        2  1800\n",
       "9  100003000.0     0.0   LEXINGTON            N            0        1   850"
      ]
     },
     "execution_count": 43,
     "metadata": {},
     "output_type": "execute_result"
    }
   ],
   "source": [
    "df_fill = df8.fillna(0) # 用0填充\n",
    "df_fill"
   ]
  },
  {
   "cell_type": "code",
   "execution_count": null,
   "id": "63a215ea85f9c6ee",
   "metadata": {
    "ExecuteTime": {
     "end_time": "2025-09-28T03:35:18.182647600Z",
     "start_time": "2025-09-28T01:17:19.535859Z"
    }
   },
   "outputs": [
    {
     "data": {
      "text/html": [
       "<div>\n",
       "<style scoped>\n",
       "    .dataframe tbody tr th:only-of-type {\n",
       "        vertical-align: middle;\n",
       "    }\n",
       "\n",
       "    .dataframe tbody tr th {\n",
       "        vertical-align: top;\n",
       "    }\n",
       "\n",
       "    .dataframe thead th {\n",
       "        text-align: right;\n",
       "    }\n",
       "</style>\n",
       "<table border=\"1\" class=\"dataframe\">\n",
       "  <thead>\n",
       "    <tr style=\"text-align: right;\">\n",
       "      <th></th>\n",
       "      <th>PID</th>\n",
       "      <th>ST_NUM</th>\n",
       "      <th>ST_NAME</th>\n",
       "      <th>OWN_OCCUPIED</th>\n",
       "      <th>NUM_BEDROOMS</th>\n",
       "      <th>NUM_BATH</th>\n",
       "      <th>SQ_FT</th>\n",
       "    </tr>\n",
       "  </thead>\n",
       "  <tbody>\n",
       "    <tr>\n",
       "      <th>0</th>\n",
       "      <td>100001000.0</td>\n",
       "      <td>104.0</td>\n",
       "      <td>PUTNAM</td>\n",
       "      <td>Y</td>\n",
       "      <td>3</td>\n",
       "      <td>1</td>\n",
       "      <td>1000</td>\n",
       "    </tr>\n",
       "    <tr>\n",
       "      <th>1</th>\n",
       "      <td>100002000.0</td>\n",
       "      <td>197.0</td>\n",
       "      <td>LEXINGTON</td>\n",
       "      <td>N</td>\n",
       "      <td>3</td>\n",
       "      <td>1.5</td>\n",
       "      <td>--</td>\n",
       "    </tr>\n",
       "    <tr>\n",
       "      <th>2</th>\n",
       "      <td>100003000.0</td>\n",
       "      <td>NaN</td>\n",
       "      <td>LEXINGTON</td>\n",
       "      <td>N</td>\n",
       "      <td>5</td>\n",
       "      <td>1</td>\n",
       "      <td>850</td>\n",
       "    </tr>\n",
       "    <tr>\n",
       "      <th>3</th>\n",
       "      <td>100004000.0</td>\n",
       "      <td>201.0</td>\n",
       "      <td>BERKELEY</td>\n",
       "      <td>12</td>\n",
       "      <td>1</td>\n",
       "      <td>NaN</td>\n",
       "      <td>700</td>\n",
       "    </tr>\n",
       "    <tr>\n",
       "      <th>4</th>\n",
       "      <td>NaN</td>\n",
       "      <td>203.0</td>\n",
       "      <td>BERKELEY</td>\n",
       "      <td>Y</td>\n",
       "      <td>3</td>\n",
       "      <td>2</td>\n",
       "      <td>1600</td>\n",
       "    </tr>\n",
       "    <tr>\n",
       "      <th>5</th>\n",
       "      <td>100006000.0</td>\n",
       "      <td>207.0</td>\n",
       "      <td>BERKELEY</td>\n",
       "      <td>Y</td>\n",
       "      <td>5</td>\n",
       "      <td>1</td>\n",
       "      <td>800</td>\n",
       "    </tr>\n",
       "    <tr>\n",
       "      <th>6</th>\n",
       "      <td>100007000.0</td>\n",
       "      <td>NaN</td>\n",
       "      <td>WASHINGTON</td>\n",
       "      <td>NaN</td>\n",
       "      <td>2</td>\n",
       "      <td>HURLEY</td>\n",
       "      <td>950</td>\n",
       "    </tr>\n",
       "    <tr>\n",
       "      <th>7</th>\n",
       "      <td>100008000.0</td>\n",
       "      <td>213.0</td>\n",
       "      <td>TREMONT</td>\n",
       "      <td>Y</td>\n",
       "      <td>1</td>\n",
       "      <td>1</td>\n",
       "      <td>NaN</td>\n",
       "    </tr>\n",
       "    <tr>\n",
       "      <th>8</th>\n",
       "      <td>100009000.0</td>\n",
       "      <td>215.0</td>\n",
       "      <td>TREMONT</td>\n",
       "      <td>Y</td>\n",
       "      <td>na</td>\n",
       "      <td>2</td>\n",
       "      <td>1800</td>\n",
       "    </tr>\n",
       "    <tr>\n",
       "      <th>9</th>\n",
       "      <td>100003000.0</td>\n",
       "      <td>NaN</td>\n",
       "      <td>LEXINGTON</td>\n",
       "      <td>N</td>\n",
       "      <td>5</td>\n",
       "      <td>1</td>\n",
       "      <td>850</td>\n",
       "    </tr>\n",
       "  </tbody>\n",
       "</table>\n",
       "</div>"
      ],
      "text/plain": [
       "           PID  ST_NUM     ST_NAME OWN_OCCUPIED NUM_BEDROOMS NUM_BATH SQ_FT\n",
       "0  100001000.0   104.0      PUTNAM            Y            3        1  1000\n",
       "1  100002000.0   197.0   LEXINGTON            N            3      1.5    --\n",
       "2  100003000.0     NaN   LEXINGTON            N            5        1   850\n",
       "3  100004000.0   201.0    BERKELEY           12            1      NaN   700\n",
       "4          NaN   203.0    BERKELEY            Y            3        2  1600\n",
       "5  100006000.0   207.0    BERKELEY            Y            5        1   800\n",
       "6  100007000.0     NaN  WASHINGTON          NaN            2   HURLEY   950\n",
       "7  100008000.0   213.0     TREMONT            Y            1        1   NaN\n",
       "8  100009000.0   215.0     TREMONT            Y           na        2  1800\n",
       "9  100003000.0     NaN   LEXINGTON            N            5        1   850"
      ]
     },
     "execution_count": 44,
     "metadata": {},
     "output_type": "execute_result"
    }
   ],
   "source": [
    "df_fill_1 = df8.fillna({\"NUM_BEDROOMS\": 5})       # 针对特定列填充\n",
    "df_fill_1"
   ]
  },
  {
   "cell_type": "code",
   "execution_count": null,
   "id": "e17aca4902b5520c",
   "metadata": {
    "ExecuteTime": {
     "end_time": "2025-09-28T03:35:18.182647600Z",
     "start_time": "2025-09-28T01:17:19.788513Z"
    }
   },
   "outputs": [
    {
     "name": "stdout",
     "output_type": "stream",
     "text": [
      "191.42857142857142\n"
     ]
    },
    {
     "data": {
      "text/plain": [
       "0    104.000000\n",
       "1    197.000000\n",
       "2    191.428571\n",
       "3    201.000000\n",
       "4    203.000000\n",
       "5    207.000000\n",
       "6    191.428571\n",
       "7    213.000000\n",
       "8    215.000000\n",
       "9    191.428571\n",
       "Name: ST_NUM, dtype: float64"
      ]
     },
     "execution_count": 45,
     "metadata": {},
     "output_type": "execute_result"
    }
   ],
   "source": [
    "x_mean = df8[\"ST_NUM\"].mean()      # 使用列平均值填充\n",
    "print(x_mean)\n",
    "df_fill_2 = df8[\"ST_NUM\"].fillna(x_mean)\n",
    "df_fill_2"
   ]
  },
  {
   "cell_type": "markdown",
   "id": "82800a3ba8c26f05",
   "metadata": {},
   "source": [
    "### 处理重复数据"
   ]
  },
  {
   "cell_type": "code",
   "execution_count": null,
   "id": "d6e20baf7bf588e0",
   "metadata": {
    "ExecuteTime": {
     "end_time": "2025-09-28T03:35:18.183652100Z",
     "start_time": "2025-09-28T01:17:20.014348Z"
    }
   },
   "outputs": [
    {
     "name": "stdout",
     "output_type": "stream",
     "text": [
      "0    False\n",
      "1    False\n",
      "2    False\n",
      "3    False\n",
      "4    False\n",
      "5    False\n",
      "6    False\n",
      "7    False\n",
      "8    False\n",
      "9     True\n",
      "dtype: bool\n"
     ]
    }
   ],
   "source": [
    "# 查看重复行\n",
    "print(df8.duplicated())"
   ]
  },
  {
   "cell_type": "markdown",
   "id": "e138b9f1e5fa5450",
   "metadata": {},
   "source": [
    "可以看出，最后一行是重复行，一般情况下，我们会删除重复行"
   ]
  },
  {
   "cell_type": "code",
   "execution_count": null,
   "id": "93c2fe4f952b778a",
   "metadata": {},
   "outputs": [],
   "source": [
    "df_unique = df8.drop_duplicates()\n",
    "df_unique"
   ]
  },
  {
   "cell_type": "markdown",
   "id": "d0c162a5b747ae41",
   "metadata": {},
   "source": [
    "### 处理异常值"
   ]
  },
  {
   "cell_type": "code",
   "execution_count": null,
   "id": "b349c419eba8c1fd",
   "metadata": {
    "ExecuteTime": {
     "end_time": "2025-09-28T03:35:18.184654300Z",
     "start_time": "2025-09-28T01:17:20.345644Z"
    }
   },
   "outputs": [
    {
     "name": "stdout",
     "output_type": "stream",
     "text": [
      "0      3\n",
      "1      3\n",
      "2    NaN\n",
      "3      1\n",
      "4      3\n",
      "5    NaN\n",
      "6      2\n",
      "7      1\n",
      "8     na\n",
      "9    NaN\n",
      "Name: NUM_BEDROOMS, dtype: object\n"
     ]
    }
   ],
   "source": [
    "print(df8[\"NUM_BEDROOMS\"])"
   ]
  },
  {
   "cell_type": "markdown",
   "id": "b46d104106bb34c6",
   "metadata": {},
   "source": [
    "比如```NUM_BEDROOMS```这列值中，存在**na**这个异常值，我们可以将它替换为**NaN**"
   ]
  },
  {
   "cell_type": "code",
   "execution_count": null,
   "id": "195adfd9e6f86c01",
   "metadata": {
    "ExecuteTime": {
     "end_time": "2025-09-28T03:35:18.184654300Z",
     "start_time": "2025-09-28T01:17:20.424742Z"
    }
   },
   "outputs": [
    {
     "name": "stdout",
     "output_type": "stream",
     "text": [
      "处理非标准缺失值后：\n",
      "           PID  ST_NUM     ST_NAME OWN_OCCUPIED NUM_BEDROOMS NUM_BATH SQ_FT\n",
      "0  100001000.0   104.0      PUTNAM            Y            3        1  1000\n",
      "1  100002000.0   197.0   LEXINGTON            N            3      1.5    --\n",
      "2  100003000.0     NaN   LEXINGTON            N          NaN        1   850\n",
      "3  100004000.0   201.0    BERKELEY           12            1      NaN   700\n",
      "4          NaN   203.0    BERKELEY            Y            3        2  1600\n",
      "5  100006000.0   207.0    BERKELEY            Y          NaN        1   800\n",
      "6  100007000.0     NaN  WASHINGTON          NaN            2   HURLEY   950\n",
      "7  100008000.0   213.0     TREMONT            Y            1        1   NaN\n",
      "8  100009000.0   215.0     TREMONT            Y          NaN        2  1800\n",
      "9  100003000.0     NaN   LEXINGTON            N          NaN        1   850\n"
     ]
    }
   ],
   "source": [
    "import numpy as np\n",
    "# 将非标准缺失值统一替换为 np.nan\n",
    "df8[\"NUM_BEDROOMS\"].replace([\"na\"], np.nan, inplace=True)\n",
    "\n",
    "print(\"处理非标准缺失值后：\")\n",
    "print(df8)\n"
   ]
  },
  {
   "cell_type": "markdown",
   "id": "4c8a33058a12fef5",
   "metadata": {},
   "source": [
    "同时，我们也可以对数据进行筛选，假如我们把```ST_NUM```大于200以及有缺失值视为不正常，那么可以通过以下方式筛选数据"
   ]
  },
  {
   "cell_type": "code",
   "execution_count": null,
   "id": "edcc34afa8d9ef88",
   "metadata": {
    "ExecuteTime": {
     "end_time": "2025-09-28T03:35:18.185653800Z",
     "start_time": "2025-09-28T01:17:20.514264Z"
    }
   },
   "outputs": [
    {
     "data": {
      "text/html": [
       "<div>\n",
       "<style scoped>\n",
       "    .dataframe tbody tr th:only-of-type {\n",
       "        vertical-align: middle;\n",
       "    }\n",
       "\n",
       "    .dataframe tbody tr th {\n",
       "        vertical-align: top;\n",
       "    }\n",
       "\n",
       "    .dataframe thead th {\n",
       "        text-align: right;\n",
       "    }\n",
       "</style>\n",
       "<table border=\"1\" class=\"dataframe\">\n",
       "  <thead>\n",
       "    <tr style=\"text-align: right;\">\n",
       "      <th></th>\n",
       "      <th>PID</th>\n",
       "      <th>ST_NUM</th>\n",
       "      <th>ST_NAME</th>\n",
       "      <th>OWN_OCCUPIED</th>\n",
       "      <th>NUM_BEDROOMS</th>\n",
       "      <th>NUM_BATH</th>\n",
       "      <th>SQ_FT</th>\n",
       "    </tr>\n",
       "  </thead>\n",
       "  <tbody>\n",
       "    <tr>\n",
       "      <th>0</th>\n",
       "      <td>100001000.0</td>\n",
       "      <td>104.0</td>\n",
       "      <td>PUTNAM</td>\n",
       "      <td>Y</td>\n",
       "      <td>3</td>\n",
       "      <td>1</td>\n",
       "      <td>1000</td>\n",
       "    </tr>\n",
       "    <tr>\n",
       "      <th>1</th>\n",
       "      <td>100002000.0</td>\n",
       "      <td>197.0</td>\n",
       "      <td>LEXINGTON</td>\n",
       "      <td>N</td>\n",
       "      <td>3</td>\n",
       "      <td>1.5</td>\n",
       "      <td>--</td>\n",
       "    </tr>\n",
       "  </tbody>\n",
       "</table>\n",
       "</div>"
      ],
      "text/plain": [
       "           PID  ST_NUM    ST_NAME OWN_OCCUPIED NUM_BEDROOMS NUM_BATH SQ_FT\n",
       "0  100001000.0   104.0     PUTNAM            Y            3        1  1000\n",
       "1  100002000.0   197.0  LEXINGTON            N            3      1.5    --"
      ]
     },
     "execution_count": 50,
     "metadata": {},
     "output_type": "execute_result"
    }
   ],
   "source": [
    "import numpy as np\n",
    "\n",
    "df_normal = df8[(df8[\"ST_NUM\"] <= 200) & (df8[\"ST_NUM\"] != np.NAN)]\n",
    "df_normal"
   ]
  },
  {
   "cell_type": "markdown",
   "id": "e2fe96389a1405ae",
   "metadata": {},
   "source": [
    "### 数据类型转化"
   ]
  },
  {
   "cell_type": "code",
   "execution_count": null,
   "id": "5bd18d7e0257f197",
   "metadata": {},
   "outputs": [],
   "source": [
    "# 将列转换为数值类型\n",
    "print(\"修改前的NUM_BEDROOMS列数值类型:\", df8[\"NUM_BEDROOMS\"].dtype)\n",
    "df8[\"NUM_BEDROOMS\"] = df8[\"NUM_BEDROOMS\"].astype(float)\n",
    "print(\"修改后的NUM_BEDROOMS列数值类型:\", df8[\"NUM_BEDROOMS\"].dtype)\n",
    "# 将列转换为字符串\n",
    "print(\"修改前的PID列数值类型:\", df8[\"PID\"].dtype)\n",
    "df8[\"PID\"] = df8[\"PID\"].astype(str)\n",
    "print(\"修改后的PID列数值类型:\", df8[\"PID\"].dtype)\n"
   ]
  },
  {
   "cell_type": "markdown",
   "id": "203568a42fe221b1",
   "metadata": {},
   "source": [
    "### 常见数据处理方法总结"
   ]
  },
  {
   "cell_type": "markdown",
   "id": "d50dcc9a0aadbdaf",
   "metadata": {},
   "source": [
    "| 操作         | 方法/步骤                   | 说明                                               | 常用函数/方法 |\n",
    "|--------------|-----------------------------|----------------------------------------------------|----------------|\n",
    "| **缺失值处理** | 填充缺失值                   | 使用指定的值（如均值、中位数、众数等）填充缺失值。 | `df.fillna(value)` |\n",
    "|              | 删除缺失值                   | 删除包含缺失值的行或列。                           | `df.dropna()` |\n",
    "| **重复数据处理** | 删除重复数据                 | 删除 DataFrame 中的重复行。                        | `df.drop_duplicates()` |\n",
    "| **异常值处理** | 异常值检测（基于统计方法）    | 通过 Z-score 或 IQR 方法识别并处理异常值。         | 自定义函数（如基于 Z-score 或 IQR） |\n",
    "|              | 替换异常值                   | 使用合适的值（如均值或中位数）替换异常值。         | 自定义函数 |\n",
    "| **数据格式转换** | 转换数据类型                 | 将数据类型从一个类型转换为另一个类型，如将字符串转换为日期。 | `df.astype()` |\n",
    "|              | 日期时间格式转换             | 转换字符串或数字为日期时间类型。                   | `pd.to_datetime()` |\n",
    "| **标准化与归一化** | 标准化                       | 将数据转换为均值为0，标准差为1的分布。             | `StandardScaler()` |\n",
    "|              | 归一化                       | 将数据缩放到指定的范围（如 [0, 1]）。              | `MinMaxScaler()` |\n",
    "| **类别数据编码** | 标签编码                     | 将类别变量转换为整数形式。                         | `LabelEncoder()` |\n",
    "|              | 独热编码（One-Hot Encoding） | 将每个类别转换为一个新的二进制特征。               | `pd.get_dummies()` |\n",
    "| **文本数据处理** | 去除停用词                   | 从文本中去除无关紧要的词，如 \"the\" 、 \"is\" 等。   | 自定义函数（基于 nltk 或 spaCy） |\n",
    "|              | 词干化与词形还原             | 提取词干或恢复单词的基本形式。                     | `nltk.stem.PorterStemmer()` |\n",
    "|              | 分词                         | 将文本分割成单词或子词。                           | `nltk.word_tokenize()` |\n",
    "| **数据抽样**   | 随机抽样                     | 从数据中随机抽取一定比例的样本。                   | `df.sample()` |\n",
    "|              | 上采样与下采样               | 通过过采样（复制少数类样本）或欠采样（减少多数类样本）来平衡数据集中的类别分布。 | `SMOTE()`（上采样）； `RandomUnderSampler()`（下采样） |\n",
    "| **特征工程**   | 特征选择                     | 选择对目标变量有影响的特征，去除冗余或无关特征。   | `SelectKBest()` |\n",
    "|              | 特征提取                     | 从原始数据中创建新的特征，提升模型的预测能力。     | `PolynomialFeatures()` |\n",
    "|              | 特征缩放                     | 对数值特征进行缩放，使其具有相同的量级。           | `MinMaxScaler()` 、 `StandardScaler()` |\n",
    "|              | 类别特征映射                 | 将类别变量映射为对应的数字编码。                   | 自定义映射函数 |\n",
    "| **数据合并与连接** | 合并数据                   | 将多个 DataFrame 按照某些列合并在一起，支持内连接、外连接、左连接、右连接等。 | `pd.merge()` |\n",
    "|              | 连接数据                     | 将多个 DataFrame 进行行或列拼接。                  | `pd.concat()` |\n",
    "| **数据重塑**   | 数据透视表                   | 将数据根据某些维度进行分组并计算聚合结果。         | `pd.pivot_table()` |\n",
    "|              | 数据变形                     | 改变数据的形状，如从长格式转为宽格式或从宽格式转为长格式。 | `df.melt()` 、 `df.pivot()` |\n",
    "| **数据类型转换与处理** | 字符串处理              | 对字符串数据进行处理，如去除空格、转换大小写等。   | `str.replace()` 、 `str.upper()` 等 |\n",
    "| **分组计算**   | 按照某个特征分组后进行聚合计算 | 对数据进行分组后执行聚合操作。                     | `df.groupby()` |\n",
    "| **缺失值预测填充** | 使用模型预测填充缺失值     | 使用机器学习模型（如回归模型）预测缺失值，并填充缺失数据。 | 自定义模型（如 `sklearn.linear_model.LinearRegression`） |\n",
    "| **时间序列处理** | 时间序列缺失值填充           | 使用时间序列的方法（如前向填充、后向填充）填充缺失值。 | `df.fillna(method='ffill')` |\n",
    "|              | 滚动窗口计算                 | 使用滑动窗口进行时间序列数据的统计计算（如均值、标准差等）。 | `df.rolling(window=5).mean()` |\n",
    "| **数据转换与映射** | 数据映射与替换             | 将数据中的某些值替换为其他值。                     | `df.replace()` |\n"
   ]
  },
  {
   "cell_type": "markdown",
   "id": "145e41006681222b",
   "metadata": {},
   "source": [
    "## Pandas进行数据可视化"
   ]
  },
  {
   "cell_type": "markdown",
   "id": "9349a3413d92c445",
   "metadata": {},
   "source": [
    "在数据处理过程中，**数据可视化**是非常重要的一个环节。而```pandas```又提供了与```MatplotLib```可视化库的集成，可以简单而高效的绘图。\n",
    "\n",
    "在```pandas```中，数据可视化功能主要通过```DataFrame.plot()```和```Series.plot()```实现"
   ]
  },
  {
   "cell_type": "markdown",
   "id": "abc284635ffd2b6b",
   "metadata": {},
   "source": [
    "### 常见图表类型\n"
   ]
  },
  {
   "cell_type": "markdown",
   "id": "72fbe1f2a7b6aa69",
   "metadata": {},
   "source": [
    "\n",
    "\n",
    "| 图表类型 | 使用方法                                          | 适用场景       |\n",
    "| ---- | --------------------------------------------- | ---------- |\n",
    "| 折线图  | `df.plot(kind=\"line\")`                        | 展示趋势（时间序列） |\n",
    "| 柱状图  | `df.plot(kind=\"bar\")`                         | 比较不同类别的数值  |\n",
    "| 条形图  | `df.plot(kind=\"barh\")`                        | 横向比较数据     |\n",
    "| 饼图   | `df.plot(kind=\"pie\")`                 | 展示占比       |\n",
    "| 直方图  | `df.plot(kind=\"hist\")`                        | 观察分布情况     |\n",
    "| 散点图  | `df.plot(kind=\"scatter\", x=\"col1\", y=\"col2\")` | 查看变量间关系    |\n",
    "\n",
    "\n"
   ]
  },
  {
   "cell_type": "markdown",
   "id": "323fea27040182ec",
   "metadata": {},
   "source": [
    "接下来，我们分别绘制一下这些图表，从实践中了解绘图的方法和效果。示例数据构建了某公司在不同地区、不同产品的月度销售数据。"
   ]
  },
  {
   "cell_type": "code",
   "execution_count": null,
   "id": "77416448e0c43362",
   "metadata": {
    "ExecuteTime": {
     "end_time": "2025-09-28T03:35:18.186653800Z",
     "start_time": "2025-09-28T01:17:25.536835Z"
    }
   },
   "outputs": [
    {
     "name": "stdout",
     "output_type": "stream",
     "text": [
      "       Month Region Product  Sales  Profit\n",
      "0 2024-01-31  North       A   1200     300\n",
      "1 2024-02-29  South       B   1500     400\n",
      "2 2024-03-31   East       C   1100     250\n",
      "3 2024-04-30   West       D   1800     500\n",
      "4 2024-05-31  North       A   1600     350\n",
      "5 2024-06-30  South       B   2000     600\n"
     ]
    }
   ],
   "source": [
    "# 导入数据\n",
    "import pandas as pd\n",
    "import matplotlib.pyplot as plt\n",
    "\n",
    "data5 = {\n",
    "    \"Month\": pd.date_range(\"2024-01\", periods=6, freq=\"M\"),\n",
    "    \"Region\": [\"North\", \"South\", \"East\", \"West\", \"North\", \"South\"],\n",
    "    \"Product\": [\"A\", \"B\", \"C\", \"D\", \"A\", \"B\"],\n",
    "    \"Sales\": [1200, 1500, 1100, 1800, 1600, 2000],\n",
    "    \"Profit\": [300, 400, 250, 500, 350, 600]\n",
    "}\n",
    "\n",
    "df9 = pd.DataFrame(data5)\n",
    "print(df9)\n"
   ]
  },
  {
   "cell_type": "markdown",
   "id": "f66d0e653ffbfa5b",
   "metadata": {},
   "source": [
    "### 折线图——销售额随时间的变化"
   ]
  },
  {
   "cell_type": "code",
   "execution_count": null,
   "id": "81893680fa5d3e0a",
   "metadata": {
    "ExecuteTime": {
     "end_time": "2025-09-28T03:35:18.186653800Z",
     "start_time": "2025-09-28T01:17:25.985990Z"
    }
   },
   "outputs": [
    {
     "data": {
      "image/png": "[encoded data removed]",
      "text/plain": [
       "<Figure size 432x288 with 1 Axes>"
      ]
     },
     "metadata": {
      "needs_background": "light"
     },
     "output_type": "display_data"
    }
   ],
   "source": [
    "df9.plot(x=\"Month\", y=\"Sales\", kind=\"line\", marker=\"o\", title=\"Monthly Sales Trend\")\n",
    "plt.show()"
   ]
  },
  {
   "cell_type": "markdown",
   "id": "e8978a0cb50e4064",
   "metadata": {},
   "source": [
    "### 柱状图——各地区的销售额对比"
   ]
  },
  {
   "cell_type": "code",
   "execution_count": null,
   "id": "2ab6ba2434fef49f",
   "metadata": {
    "ExecuteTime": {
     "end_time": "2025-09-28T03:35:18.187653Z",
     "start_time": "2025-09-28T01:17:26.145628Z"
    }
   },
   "outputs": [
    {
     "data": {
      "image/png": "[encoded data removed]",
      "text/plain": [
       "<Figure size 432x288 with 1 Axes>"
      ]
     },
     "metadata": {
      "needs_background": "light"
     },
     "output_type": "display_data"
    }
   ],
   "source": [
    "df9.groupby(\"Region\")[\"Sales\"].sum().plot(kind=\"bar\", title=\"Sales by Region\", color=\"skyblue\")\n",
    "plt.show()"
   ]
  },
  {
   "cell_type": "markdown",
   "id": "50a7f571f58003b5",
   "metadata": {},
   "source": [
    "### 条形图——个产品的利润对比"
   ]
  },
  {
   "cell_type": "code",
   "execution_count": null,
   "id": "67de17f5b530e9d5",
   "metadata": {},
   "outputs": [],
   "source": [
    "df9.groupby(\"Product\")[\"Profit\"].sum().plot(kind=\"barh\", title=\"Profit by Product\", color=\"orange\")\n",
    "plt.show()"
   ]
  },
  {
   "cell_type": "markdown",
   "id": "a82288fa5edd08bd",
   "metadata": {},
   "source": [
    "### 饼图——各个地区的销售额占比"
   ]
  },
  {
   "cell_type": "code",
   "execution_count": null,
   "id": "4c1e12af568ea465",
   "metadata": {
    "ExecuteTime": {
     "end_time": "2025-09-28T03:35:18.187653Z",
     "start_time": "2025-09-28T01:17:26.293143Z"
    }
   },
   "outputs": [
    {
     "data": {
      "image/png": "[encoded data removed]",
      "text/plain": [
       "<Figure size 432x288 with 1 Axes>"
      ]
     },
     "metadata": {},
     "output_type": "display_data"
    }
   ],
   "source": [
    "df9.groupby(\"Region\")[\"Sales\"].sum().plot(\n",
    "    kind=\"pie\", autopct=\"%1.1f%%\", title=\"Sales Share by Region\"\n",
    ")\n",
    "plt.show()"
   ]
  },
  {
   "cell_type": "markdown",
   "id": "5a805bdceddae693",
   "metadata": {},
   "source": [
    "### 直方图——销售额分布"
   ]
  },
  {
   "cell_type": "code",
   "execution_count": null,
   "id": "ead8e828d3e3605e",
   "metadata": {
    "ExecuteTime": {
     "end_time": "2025-09-28T03:35:18.188652Z",
     "start_time": "2025-09-28T01:17:26.403166Z"
    }
   },
   "outputs": [
    {
     "data": {
      "image/png": "[encoded data removed]",
      "text/plain": [
       "<Figure size 432x288 with 1 Axes>"
      ]
     },
     "metadata": {
      "needs_background": "light"
     },
     "output_type": "display_data"
    }
   ],
   "source": [
    "df9[\"Sales\"].plot(kind=\"hist\", bins=5, title=\"Sales Distribution\", color=\"green\", alpha=0.7)\n",
    "plt.xlabel(\"Sales\")\n",
    "plt.show()"
   ]
  },
  {
   "cell_type": "markdown",
   "id": "8e849a5888f3fc6a",
   "metadata": {},
   "source": [
    "### 散点图——销售额和利润之间的关系"
   ]
  },
  {
   "cell_type": "code",
   "execution_count": null,
   "id": "a99eec5b175ec892",
   "metadata": {
    "ExecuteTime": {
     "end_time": "2025-09-28T03:35:18.188652Z",
     "start_time": "2025-09-28T01:17:26.503681Z"
    }
   },
   "outputs": [
    {
     "data": {
      "image/png": "[encoded data removed]",
      "text/plain": [
       "<Figure size 432x288 with 1 Axes>"
      ]
     },
     "metadata": {
      "needs_background": "light"
     },
     "output_type": "display_data"
    }
   ],
   "source": [
    "df9.plot(kind=\"scatter\", x=\"Sales\", y=\"Profit\", title=\"Sales vs Profit\", color=\"red\")\n",
    "plt.show()"
   ]
  },
  {
   "cell_type": "markdown",
   "id": "4b0ff3a3c2b3b6f4",
   "metadata": {},
   "source": [
    "看完了多种多样绘制出来的图片，你是否会感觉到美观度上仍需调整🤔？事实上我们可以对画布进行参数上的调整让它更加美观，你可以自行实验，对图表进行美化操作😊。"
   ]
  },
  {
   "cell_type": "markdown",
   "id": "871c0858fbb33050",
   "metadata": {},
   "source": [
    "| 参数         | 说明                                                                                                                                                             |\n",
    "| ---------- | -------------------------------------------------------------------------------------------------------------------------------------------------------------- |\n",
    "| `kind`     | 指定图表类型，如 `'line'`（折线图，默认）、`'bar'`（柱状图）、`'barh'`（条形图）、`'hist'`（直方图）、`'box'`（箱线图）、`'kde'`（核密度估计）、`'area'`（面积图）、`'pie'`（饼图）、`'scatter'`（散点图，仅Series和DataFrame支持）等 |\n",
    "| `x`        | 指定作为横坐标的列名（常用于散点图、折线图等）                                                                                                                                        |\n",
    "| `y`        | 指定作为纵坐标的列名，可以是单列或多列                                                                                                                                            |\n",
    "| `title`    | 设置图表标题                                                                                                                                                         |\n",
    "| `color`    | 设置线条或柱子的颜色，可以是字符串（如 `'red'`）或颜色列表                                                                                                                              |\n",
    "| `style`    | 设置线条样式（如 `'-'` 实线，`'--'` 虚线，`'o'` 点线）                                                                                                                          |\n",
    "| `alpha`    | 设置透明度（0-1之间的数值，越小越透明）                                                                                                                                          |\n",
    "| `grid`     | 是否显示网格线（布尔值 `True/False`）                                                                                                                                      |\n",
    "| `legend`   | 是否显示图例（布尔值，默认 `True`）                                                                                                                                          |\n",
    "| `figsize`  | 设置图表大小，如 `(10, 6)`                                                                                                                                             |\n",
    "| `fontsize` | 设置刻度字体大小                                                                                                                                                       |\n",
    "| `xticks`   | 自定义x轴刻度值                                                                                                                                                       |\n",
    "| `yticks`   | 自定义y轴刻度值                                                                                                                                                       |\n",
    "| `xlim`     | 设置x轴显示范围，如 `(0, 100)`                                                                                                                                          |\n",
    "| `ylim`     | 设置y轴显示范围                                                                                                                                                       |\n",
    "| `marker`   | 指定标记样式（如 `'o'` 圆点，`'s'` 方块，`'^'` 三角）                                                                                                                           |\n",
    "| `subplots` | 是否将不同列分别绘制在子图上（布尔值）                                                                                                                                            |\n",
    "| `sharex`   | 当使用子图时，是否共享x轴                                                                                                                                                  |\n",
    "| `sharey`   | 当使用子图时，是否共享y轴                                                                                                                                                  |\n"
   ]
  },
  {
   "cell_type": "markdown",
   "id": "a55a3fb08da23d98",
   "metadata": {},
   "source": [
    "当然，```matplotlib```能够提供的美化效果是**有限**的，如果有更加高级的需求，可以了解一下[seaborn](https://github.com/mwaskom/seaborn)、[plotly](https://github.com/plotly/plotly.py)、[qgrid](https://github.com/quantopian/qgrid)、[streamlit](https://github.com/streamlit/streamlit)，欢迎同学们自行学习👏"
   ]
  }
 ],
 "metadata": {
  "kernelspec": {
   "display_name": "base",
   "language": "python",
   "name": "python3"
  },
  "language_info": {
   "codemirror_mode": {
    "name": "ipython",
    "version": 3
   },
   "file_extension": ".py",
   "mimetype": "text/x-python",
   "name": "python",
   "nbconvert_exporter": "python",
   "pygments_lexer": "ipython3",
   "version": "3.11.5"
  }
 },
 "nbformat": 4,
 "nbformat_minor": 5
}
